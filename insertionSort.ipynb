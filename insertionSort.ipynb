{
 "cells": [
  {
   "cell_type": "code",
   "execution_count": 21,
   "metadata": {},
   "outputs": [],
   "source": [
    "def insertionSort(array):\n",
    "\n",
    "    arr=array.copy()\n",
    "    size=len(arr)-1\n",
    "    for i in range(size):\n",
    "        for index,element in enumerate(arr[:i+1]):\n",
    "            if arr[i+1] < element:\n",
    "                arr.insert(index,arr[i+1])\n",
    "                arr.pop(i+2)\n",
    "                break\n",
    "\n",
    "    return arr\n"
   ]
  },
  {
   "cell_type": "code",
   "execution_count": 44,
   "metadata": {},
   "outputs": [
    {
     "data": {
      "text/plain": [
       "[6]"
      ]
     },
     "execution_count": 44,
     "metadata": {},
     "output_type": "execute_result"
    }
   ],
   "source": [
    "element=[6]\n",
    "\n",
    "insertionSort(array=element)"
   ]
  },
  {
   "cell_type": "code",
   "execution_count": 28,
   "metadata": {},
   "outputs": [],
   "source": [
    "import numpy as np\n",
    "import time\n",
    "\n",
    "np.random.seed=45\n",
    "lst=np.random.randint(low=2, high=10000,size=100)"
   ]
  },
  {
   "cell_type": "code",
   "execution_count": 38,
   "metadata": {},
   "outputs": [
    {
     "name": "stdout",
     "output_type": "stream",
     "text": [
      "0.0002982616424560547\n"
     ]
    }
   ],
   "source": [
    "st=time.time()\n",
    "insertionSort(array=list(lst))\n",
    "et=time.time()\n",
    "print(et-st)"
   ]
  },
  {
   "cell_type": "code",
   "execution_count": null,
   "metadata": {},
   "outputs": [],
   "source": []
  }
 ],
 "metadata": {
  "interpreter": {
   "hash": "32e1961d42f3fbeb0ee29f569be50cb2fa46fd336bd2262018e45872c9fc3b32"
  },
  "kernelspec": {
   "display_name": "Python 3.10.1 ('DSAVenv': venv)",
   "language": "python",
   "name": "python3"
  },
  "language_info": {
   "codemirror_mode": {
    "name": "ipython",
    "version": 3
   },
   "file_extension": ".py",
   "mimetype": "text/x-python",
   "name": "python",
   "nbconvert_exporter": "python",
   "pygments_lexer": "ipython3",
   "version": "3.10.1"
  },
  "orig_nbformat": 4
 },
 "nbformat": 4,
 "nbformat_minor": 2
}
