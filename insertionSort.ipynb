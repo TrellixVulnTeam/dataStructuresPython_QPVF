{
 "cells": [
  {
   "cell_type": "code",
   "execution_count": 1,
   "metadata": {},
   "outputs": [],
   "source": [
    "def insertionSort(array):\n",
    "\n",
    "    arr=array.copy()\n",
    "    size=len(arr)-1\n",
    "    for i in range(size):\n",
    "        for index,element in enumerate(arr[:i+1]):\n",
    "            if arr[i+1] < element:\n",
    "                arr.insert(index,arr[i+1])\n",
    "                arr.pop(i+2)\n",
    "                break\n",
    "\n",
    "    return arr\n"
   ]
  },
  {
   "cell_type": "code",
   "execution_count": 8,
   "metadata": {},
   "outputs": [],
   "source": [
    "def insertionSort2(array):\n",
    "    size=len(array)\n",
    "    for i in range(0,size):\n",
    "        for j in range(0,i):\n",
    "            if array[i]<array[j]:\n",
    "                swapVal=array[j]\n",
    "                array[j]=array[i]\n",
    "                array[i]=swapVal\n",
    "    return array"
   ]
  },
  {
   "cell_type": "code",
   "execution_count": 9,
   "metadata": {},
   "outputs": [
    {
     "data": {
      "text/plain": [
       "[2, 7, 9, 15, 28, 29, 38]"
      ]
     },
     "execution_count": 9,
     "metadata": {},
     "output_type": "execute_result"
    }
   ],
   "source": [
    "element=[38, 7,\t29,\t9, 2, 15,28]\n",
    "\n",
    "insertionSort2(array=element)"
   ]
  },
  {
   "cell_type": "code",
   "execution_count": 19,
   "metadata": {},
   "outputs": [],
   "source": [
    "import numpy as np\n",
    "import time\n",
    "\n",
    "np.random.seed=45\n",
    "lst=np.random.randint(low=2, high=10000,size=1000)"
   ]
  },
  {
   "cell_type": "code",
   "execution_count": 22,
   "metadata": {},
   "outputs": [
    {
     "name": "stdout",
     "output_type": "stream",
     "text": [
      "0.019998788833618164\n"
     ]
    }
   ],
   "source": [
    "st=time.time()\n",
    "insertionSort(array=list(lst))\n",
    "et=time.time()\n",
    "print(et-st)"
   ]
  },
  {
   "cell_type": "code",
   "execution_count": 23,
   "metadata": {},
   "outputs": [
    {
     "name": "stdout",
     "output_type": "stream",
     "text": [
      "0.038999319076538086\n"
     ]
    }
   ],
   "source": [
    "st=time.time()\n",
    "insertionSort2(array=list(lst))\n",
    "et=time.time()\n",
    "print(et-st)"
   ]
  },
  {
   "cell_type": "code",
   "execution_count": null,
   "metadata": {},
   "outputs": [],
   "source": []
  }
 ],
 "metadata": {
  "interpreter": {
   "hash": "32e1961d42f3fbeb0ee29f569be50cb2fa46fd336bd2262018e45872c9fc3b32"
  },
  "kernelspec": {
   "display_name": "Python 3.10.1 ('DSAVenv': venv)",
   "language": "python",
   "name": "python3"
  },
  "language_info": {
   "codemirror_mode": {
    "name": "ipython",
    "version": 3
   },
   "file_extension": ".py",
   "mimetype": "text/x-python",
   "name": "python",
   "nbconvert_exporter": "python",
   "pygments_lexer": "ipython3",
   "version": "3.10.1"
  },
  "orig_nbformat": 4
 },
 "nbformat": 4,
 "nbformat_minor": 2
}
