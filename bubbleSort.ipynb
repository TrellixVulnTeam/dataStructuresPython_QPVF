{
 "cells": [
  {
   "cell_type": "code",
   "execution_count": 5,
   "metadata": {},
   "outputs": [],
   "source": [
    "def swapPos(array,index):\n",
    "    swapVal=array[index+1]\n",
    "    array[index+1]=array[index]\n",
    "    array[index]=swapVal\n",
    "    return array\n",
    "\n",
    "def bubbleSort2(array):\n",
    "    arr=array.copy()\n",
    "    swap=False\n",
    "    for indexi, i in enumerate(arr):\n",
    "        for j in range(len(arr)-1-indexi):\n",
    "            if arr[j]>arr[j+1]:\n",
    "                arr=swapPos(array=arr,index=j)\n",
    "                swap=True\n",
    "            else:\n",
    "                pass\n",
    "        if not swap:\n",
    "            break\n",
    "    return arr\n",
    "\n",
    "def bubbleSort3(array):\n",
    "    arr=array.copy()\n",
    "    for indexi, i in enumerate(arr):\n",
    "        j=0\n",
    "        swap=False\n",
    "        while j<len(arr)-1-indexi:\n",
    "            if arr[j]>arr[j+1]:\n",
    "                arr=swapPos(array=arr,index=j)\n",
    "                swap=True\n",
    "            else:\n",
    "                pass\n",
    "            j+=1\n",
    "        if not swap:\n",
    "            break\n",
    "    return arr"
   ]
  },
  {
   "cell_type": "code",
   "execution_count": 6,
   "metadata": {},
   "outputs": [
    {
     "data": {
      "text/plain": [
       "[2, 7, 9, 15, 28, 29, 38]"
      ]
     },
     "execution_count": 6,
     "metadata": {},
     "output_type": "execute_result"
    }
   ],
   "source": [
    "bubbleSort2(array=[38,9,29,7,2,15,28])"
   ]
  },
  {
   "cell_type": "code",
   "execution_count": 7,
   "metadata": {},
   "outputs": [
    {
     "data": {
      "text/plain": [
       "[2, 7, 9, 15, 28, 29, 38]"
      ]
     },
     "execution_count": 7,
     "metadata": {},
     "output_type": "execute_result"
    }
   ],
   "source": [
    "bubbleSort3(array=[38,9,29,7,2,15,28])"
   ]
  },
  {
   "cell_type": "code",
   "execution_count": 8,
   "metadata": {},
   "outputs": [],
   "source": [
    "import numpy as np\n",
    "import time"
   ]
  },
  {
   "cell_type": "code",
   "execution_count": 9,
   "metadata": {},
   "outputs": [],
   "source": [
    "np.random.seed=45\n",
    "lst=np.random.randint(low=2, high=10000,size=100)\n"
   ]
  },
  {
   "cell_type": "code",
   "execution_count": 17,
   "metadata": {},
   "outputs": [
    {
     "name": "stdout",
     "output_type": "stream",
     "text": [
      "0.0020024776458740234\n"
     ]
    }
   ],
   "source": [
    "st=time.time()\n",
    "bubbleSort2(array=lst)\n",
    "et=time.time()\n",
    "print(et-st)"
   ]
  },
  {
   "cell_type": "code",
   "execution_count": 18,
   "metadata": {},
   "outputs": [
    {
     "name": "stdout",
     "output_type": "stream",
     "text": [
      "0.002999544143676758\n"
     ]
    }
   ],
   "source": [
    "st=time.time()\n",
    "bubbleSort3(array=lst)\n",
    "et=time.time()\n",
    "print(et-st)"
   ]
  },
  {
   "cell_type": "code",
   "execution_count": 16,
   "metadata": {},
   "outputs": [
    {
     "data": {
      "text/plain": [
       "array([8725, 1945, 4869, 4887,  463, 1753, 7900, 5411, 1841, 6092, 5258,\n",
       "       4640, 6757, 1328, 8223, 7625, 1004, 2353, 1643, 4597,  220, 1701,\n",
       "       7084,  337, 1581, 7822, 1203,  275, 3618, 5271, 1358, 2779,  345,\n",
       "       7792, 2585, 8102, 7532, 7486, 7784, 2804, 7439, 2913, 7219,  440,\n",
       "       5919, 8100, 7675, 3112, 5988, 7336, 1091, 9032, 4078, 9906, 3653,\n",
       "       3556, 7204, 2155, 4652, 3416, 5977, 5993, 1131, 8374, 6926,  177,\n",
       "       5103, 6395, 8907, 9794, 2228, 1184, 1610, 1014, 6684,  739,  779,\n",
       "       9768, 9487, 1023, 2475, 4859, 1341, 1600,  465, 9064, 2073,  994,\n",
       "       9416, 1405, 6893,  102, 2581, 5105, 7876, 7677,  532, 4917, 5573,\n",
       "       1403])"
      ]
     },
     "execution_count": 16,
     "metadata": {},
     "output_type": "execute_result"
    }
   ],
   "source": [
    "lst"
   ]
  },
  {
   "cell_type": "code",
   "execution_count": 196,
   "metadata": {},
   "outputs": [
    {
     "data": {
      "text/plain": [
       "array([  24,   62,  151,  441,  671,  812,  866,  935, 1137, 1169, 1253,\n",
       "       1380, 1443, 1475, 1901, 1962, 2134, 2255, 2268, 2292, 2308, 2323,\n",
       "       2333, 2418, 2477, 2709, 2753, 2902, 2937, 2964, 3023, 3067, 3246,\n",
       "       3340, 3429, 3743, 3834, 3999, 4097, 4323, 4393, 4422, 4445, 4739,\n",
       "       5119, 5155, 5176, 5260, 5304, 5417, 5427, 5567, 5588, 5709, 5866,\n",
       "       5872, 5919, 5927, 5944, 5949, 6178, 6203, 6269, 6338, 6438, 6503,\n",
       "       6636, 6691, 6692, 6731, 6763, 6783, 6847, 7121, 7485, 7730, 7774,\n",
       "       7890, 7974, 8062, 8083, 8141, 8200, 8334, 8562, 8604, 8610, 8645,\n",
       "       8675, 8741, 8937, 8994, 9000, 9173, 9238, 9247, 9555, 9827, 9868,\n",
       "       9919])"
      ]
     },
     "execution_count": 196,
     "metadata": {},
     "output_type": "execute_result"
    }
   ],
   "source": [
    "bubbleSort3(lst)"
   ]
  },
  {
   "cell_type": "code",
   "execution_count": 201,
   "metadata": {},
   "outputs": [],
   "source": [
    "elements = [\n",
    "        { 'name': 'mona',   'transaction_amount': 1000, 'device': 'iphone-10'},\n",
    "        { 'name': 'dhaval', 'transaction_amount': 400,  'device': 'google pixel'},\n",
    "        { 'name': 'kathy',  'transaction_amount': 200,  'device': 'vivo'},\n",
    "        { 'name': 'aamir',  'transaction_amount': 800,  'device': 'iphone-8'},\n",
    "    ]"
   ]
  },
  {
   "cell_type": "code",
   "execution_count": 212,
   "metadata": {},
   "outputs": [],
   "source": [
    "def bubbleSort4(elements,key):\n",
    "    size=len(elements)\n",
    "    for index,record in enumerate(elements):\n",
    "        j=0\n",
    "        swap=False\n",
    "        while j<size-1-index:\n",
    "            if elements[j][key]>elements[j+1][key]:\n",
    "                swapVal=elements[j+1]\n",
    "                elements[j+1]=elements[j]\n",
    "                elements[j]=swapVal\n",
    "                swap=True\n",
    "            else:\n",
    "                pass\n",
    "            j+=1\n",
    "        if not swap:\n",
    "            break\n",
    "    return elements\n"
   ]
  },
  {
   "cell_type": "code",
   "execution_count": 214,
   "metadata": {},
   "outputs": [
    {
     "data": {
      "text/plain": [
       "[{'name': 'aamir', 'transaction_amount': 800, 'device': 'iphone-8'},\n",
       " {'name': 'dhaval', 'transaction_amount': 400, 'device': 'google pixel'},\n",
       " {'name': 'kathy', 'transaction_amount': 200, 'device': 'vivo'},\n",
       " {'name': 'mona', 'transaction_amount': 1000, 'device': 'iphone-10'}]"
      ]
     },
     "execution_count": 214,
     "metadata": {},
     "output_type": "execute_result"
    }
   ],
   "source": [
    "elements = [\n",
    "        { 'name': 'mona',   'transaction_amount': 1000, 'device': 'iphone-10'},\n",
    "        { 'name': 'dhaval', 'transaction_amount': 400,  'device': 'google pixel'},\n",
    "        { 'name': 'kathy',  'transaction_amount': 200,  'device': 'vivo'},\n",
    "        { 'name': 'aamir',  'transaction_amount': 800,  'device': 'iphone-8'},\n",
    "    ]\n",
    "bubbleSort4(elements=elements,key=\"name\")"
   ]
  },
  {
   "cell_type": "code",
   "execution_count": null,
   "metadata": {},
   "outputs": [],
   "source": []
  }
 ],
 "metadata": {
  "interpreter": {
   "hash": "32e1961d42f3fbeb0ee29f569be50cb2fa46fd336bd2262018e45872c9fc3b32"
  },
  "kernelspec": {
   "display_name": "Python 3.10.1 ('DSAVenv': venv)",
   "language": "python",
   "name": "python3"
  },
  "language_info": {
   "codemirror_mode": {
    "name": "ipython",
    "version": 3
   },
   "file_extension": ".py",
   "mimetype": "text/x-python",
   "name": "python",
   "nbconvert_exporter": "python",
   "pygments_lexer": "ipython3",
   "version": "3.10.1"
  },
  "orig_nbformat": 4
 },
 "nbformat": 4,
 "nbformat_minor": 2
}
