{
 "cells": [
  {
   "cell_type": "code",
   "execution_count": 27,
   "metadata": {},
   "outputs": [],
   "source": [
    "def partitionNonRecursive(elements):\n",
    "    pivotIndex=0\n",
    "    pivot=elements[pivotIndex]\n",
    "    \n",
    "    start=pivotIndex+1\n",
    "    end=len(elements)-1\n",
    "\n",
    "    while start<end:\n",
    "        while elements[start]<=pivot:\n",
    "            start+=1 \n",
    "        while elements[end]>pivot:\n",
    "            end-=1\n",
    "        \n",
    "        # Swap values\n",
    "        if start!=end and start<end:\n",
    "\n",
    "            elements[start], elements[end] = elements[end], elements[start]\n",
    "    \n",
    "    elements[end], elements[pivotIndex]= elements[pivotIndex], elements[end]\n",
    "\n",
    "def partitionRecursive(elements, start, end):\n",
    "    pivotIndex=start\n",
    "    pivot=elements[pivotIndex]\n",
    "    \n",
    "    # start=pivotIndex+1\n",
    "    # end=len(elements)-1\n",
    "\n",
    "    while start<end:\n",
    "        while start<len(elements) and elements[start]<=pivot:\n",
    "            start+=1 \n",
    "        while elements[end]>pivot:\n",
    "            end-=1\n",
    "        \n",
    "        # Swap values\n",
    "        if start!=end and start<end:\n",
    "\n",
    "            elements[start], elements[end] = elements[end], elements[start]\n",
    "    \n",
    "    elements[end], elements[pivotIndex]= elements[pivotIndex], elements[end]\n",
    "\n",
    "    # End Pointer will be pointing at the position of the element, which is being freezed\n",
    "    return end  \n",
    "\n",
    "\n",
    "def quickSort(elements,start,end):\n",
    "    # partitionNonRecursive(elements)\n",
    "\n",
    "    # The endPoint is being returned which will be used for doing further partitions on the \n",
    "    # left and the right side of the array\n",
    "    if start<end:\n",
    "        pi=partitionRecursive(elements=elements, start=start, end=end)\n",
    "        # print(start, end)\n",
    "        quickSort(elements, start=start, end=pi-1)  # left partition\n",
    "        quickSort(elements, start=pi+1, end=end)  # right partition"
   ]
  },
  {
   "cell_type": "code",
   "execution_count": 34,
   "metadata": {},
   "outputs": [
    {
     "name": "stdout",
     "output_type": "stream",
     "text": [
      "[2, 7, 9, 11, 15, 28, 29]\n"
     ]
    }
   ],
   "source": [
    "elements=[11,9,29,7,2,15,28]\n",
    "\n",
    "quickSort(elements, start=0, end=len(elements)-1)\n",
    "\n",
    "print(elements)"
   ]
  },
  {
   "cell_type": "code",
   "execution_count": 31,
   "metadata": {},
   "outputs": [
    {
     "name": "stdout",
     "output_type": "stream",
     "text": [
      "0.0\n"
     ]
    }
   ],
   "source": [
    "import numpy as np\n",
    "import time\n",
    "\n",
    "np.random.seed=45\n",
    "lst=np.random.randint(low=2, high=10000,size=100)\n",
    "\n",
    "st=time.time()\n",
    "quickSort(list(lst), start=0, end=len(elements)-1)\n",
    "et=time.time()\n",
    "print(et-st)"
   ]
  },
  {
   "cell_type": "code",
   "execution_count": 32,
   "metadata": {},
   "outputs": [
    {
     "data": {
      "text/plain": [
       "1649573277.663401"
      ]
     },
     "execution_count": 32,
     "metadata": {},
     "output_type": "execute_result"
    }
   ],
   "source": [
    "et"
   ]
  },
  {
   "cell_type": "code",
   "execution_count": null,
   "metadata": {},
   "outputs": [],
   "source": []
  }
 ],
 "metadata": {
  "interpreter": {
   "hash": "32e1961d42f3fbeb0ee29f569be50cb2fa46fd336bd2262018e45872c9fc3b32"
  },
  "kernelspec": {
   "display_name": "Python 3.10.1 ('DSAVenv': venv)",
   "language": "python",
   "name": "python3"
  },
  "language_info": {
   "codemirror_mode": {
    "name": "ipython",
    "version": 3
   },
   "file_extension": ".py",
   "mimetype": "text/x-python",
   "name": "python",
   "nbconvert_exporter": "python",
   "pygments_lexer": "ipython3",
   "version": "3.10.1"
  },
  "orig_nbformat": 4
 },
 "nbformat": 4,
 "nbformat_minor": 2
}
