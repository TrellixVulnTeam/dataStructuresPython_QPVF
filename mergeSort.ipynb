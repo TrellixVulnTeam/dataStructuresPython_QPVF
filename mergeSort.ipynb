{
 "cells": [
  {
   "cell_type": "code",
   "execution_count": 45,
   "metadata": {},
   "outputs": [],
   "source": [
    "def mergeTwoSortedLists(a,b):\n",
    "\n",
    "    \"\"\"\n",
    "    Function to merge two sorted Lists\n",
    "    \"\"\"\n",
    "\n",
    "    arr=[]\n",
    "    leftIndex, rightIndex = 0,0\n",
    "    while leftIndex<len(a) and rightIndex<len(b):\n",
    "        if a[leftIndex]<b[rightIndex]:\n",
    "            smallerElement=a[leftIndex]\n",
    "            arr.append(smallerElement)\n",
    "            leftIndex+=1\n",
    "        else:\n",
    "            smallerElement=b[rightIndex]\n",
    "            arr.append(smallerElement)\n",
    "            rightIndex+=1\n",
    "    \n",
    "    if leftIndex==len(a):\n",
    "        for element in b[rightIndex:]:\n",
    "            arr.append(element)\n",
    "    elif rightIndex==len(b):\n",
    "        for element in a[leftIndex:]:\n",
    "            arr.append(element)\n",
    "    \n",
    "    \n",
    "    return arr\n",
    "\n",
    "def mergeSort(arr):\n",
    "    if len(arr) <=1:\n",
    "        return arr\n",
    "    else:\n",
    "        mid=len(arr)//2\n",
    "        left=arr[:mid]\n",
    "        right=arr[mid:]\n",
    "\n",
    "        left=mergeSort(arr=left)\n",
    "        right=mergeSort(arr=right)\n",
    "\n",
    "        return mergeTwoSortedLists(a=left,b=right)\n",
    "     \n"
   ]
  },
  {
   "cell_type": "code",
   "execution_count": 47,
   "metadata": {},
   "outputs": [
    {
     "name": "stdout",
     "output_type": "stream",
     "text": [
      "[5, 7, 8, 9, 12, 45, 51, 56]\n"
     ]
    }
   ],
   "source": [
    "a = [5,8,12,56]\n",
    "b = [7,9,45,51]\n",
    "\n",
    "print(mergeTwoSortedLists(a,b))\n",
    "\n"
   ]
  },
  {
   "cell_type": "code",
   "execution_count": 48,
   "metadata": {},
   "outputs": [
    {
     "name": "stdout",
     "output_type": "stream",
     "text": [
      "[4, 17, 21, 29, 32, 38, 39]\n"
     ]
    }
   ],
   "source": [
    "array=[38,39,4,29,17,32,21]\n",
    "print(mergeSort(arr=array))\n"
   ]
  },
  {
   "cell_type": "code",
   "execution_count": 49,
   "metadata": {},
   "outputs": [],
   "source": [
    "## Excercise\n",
    "elements=[\n",
    "    {'name':'rajab','age':12,'time_hours':3},\n",
    "    {'name':'vignesh','age':21,'time_hours':2.5},\n",
    "    {'name':'chinmay','age':24,'time_hours':1.5},\n",
    "    {'name':'vedanth','age':17,'time_hours':1}, \n",
    "]"
   ]
  },
  {
   "cell_type": "code",
   "execution_count": 50,
   "metadata": {},
   "outputs": [],
   "source": [
    "def mergeTwoSortedLists(a,b, key, descending):\n",
    "\n",
    "    \"\"\"\n",
    "    Function to merge two sorted Lists\n",
    "    \"\"\"\n",
    "\n",
    "    arr=[]\n",
    "    leftIndex, rightIndex = 0,0\n",
    "    if not descending:\n",
    "        while leftIndex<len(a) and rightIndex<len(b):\n",
    "            if a[leftIndex][key]<b[rightIndex][key]:\n",
    "                smallerElement=a[leftIndex]\n",
    "                arr.append(smallerElement)\n",
    "                leftIndex+=1\n",
    "            else:\n",
    "                smallerElement=b[rightIndex]\n",
    "                arr.append(smallerElement)\n",
    "                rightIndex+=1\n",
    "        \n",
    "        if leftIndex==len(a):\n",
    "            for element in b[rightIndex:]:\n",
    "                arr.append(element)\n",
    "        elif rightIndex==len(b):\n",
    "            for element in a[leftIndex:]:\n",
    "                arr.append(element)\n",
    "\n",
    "    else:\n",
    "        while leftIndex<len(a) and rightIndex<len(b):\n",
    "            if a[leftIndex][key]>b[rightIndex][key]:\n",
    "                greaterElement=a[leftIndex]\n",
    "                arr.append(greaterElement)\n",
    "                leftIndex+=1\n",
    "            else:\n",
    "                greaterElement=b[rightIndex]\n",
    "                arr.append(greaterElement)\n",
    "                rightIndex+=1\n",
    "        \n",
    "        if leftIndex==len(a):\n",
    "            for element in b[rightIndex:]:\n",
    "                arr.append(element)\n",
    "        elif rightIndex==len(b):\n",
    "            for element in a[leftIndex:]:\n",
    "                arr.append(element)\n",
    "    return arr\n",
    "\n",
    "def mergeSort(object, key, descending):\n",
    "    if len(object) <=1:\n",
    "        return object\n",
    "    else:\n",
    "        mid=len(object)//2\n",
    "        left=object[:mid]\n",
    "        right=object[mid:]\n",
    "\n",
    "        left=mergeSort(object=left,key=key,descending=descending)\n",
    "        right=mergeSort(object=right,key=key, descending=descending)\n",
    "\n",
    "        return mergeTwoSortedLists(a=left,b=right, key=key,descending=descending)"
   ]
  },
  {
   "cell_type": "code",
   "execution_count": 51,
   "metadata": {},
   "outputs": [
    {
     "data": {
      "text/plain": [
       "[{'name': 'chinmay', 'age': 24, 'time_hours': 1.5},\n",
       " {'name': 'vignesh', 'age': 21, 'time_hours': 2.5},\n",
       " {'name': 'vedanth', 'age': 17, 'time_hours': 1},\n",
       " {'name': 'rajab', 'age': 12, 'time_hours': 3}]"
      ]
     },
     "execution_count": 51,
     "metadata": {},
     "output_type": "execute_result"
    }
   ],
   "source": [
    "mergeSort(object=elements,key='age', descending=True)"
   ]
  },
  {
   "cell_type": "code",
   "execution_count": null,
   "metadata": {},
   "outputs": [],
   "source": []
  }
 ],
 "metadata": {
  "interpreter": {
   "hash": "32e1961d42f3fbeb0ee29f569be50cb2fa46fd336bd2262018e45872c9fc3b32"
  },
  "kernelspec": {
   "display_name": "Python 3.10.1 ('DSAVenv': venv)",
   "language": "python",
   "name": "python3"
  },
  "language_info": {
   "codemirror_mode": {
    "name": "ipython",
    "version": 3
   },
   "file_extension": ".py",
   "mimetype": "text/x-python",
   "name": "python",
   "nbconvert_exporter": "python",
   "pygments_lexer": "ipython3",
   "version": "3.10.1"
  },
  "orig_nbformat": 4
 },
 "nbformat": 4,
 "nbformat_minor": 2
}
