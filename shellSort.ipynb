{
 "cells": [
  {
   "cell_type": "code",
   "execution_count": 9,
   "metadata": {},
   "outputs": [],
   "source": [
    "def shellSort(elements):\n",
    "    size=len(elements)\n",
    "    gapSize=size//2\n",
    "    while gapSize>=1:\n",
    "        start=0\n",
    "        while start<gapSize:\n",
    "            for i in range(start+gapSize,size,gapSize):\n",
    "                if elements[i]<elements[i-gapSize]:\n",
    "                    # swapVal=elements[i]\n",
    "                    # elements[i]=elements[i-gapSize]\n",
    "                    # elements[i-gapSize]=swapVal\n",
    "                    elements[i],elements[i-gapSize]=elements[i-gapSize],elements[i]\n",
    "\n",
    "\n",
    "            start+=1 \n",
    "        gapSize-=1\n",
    "\n",
    "    return elements\n"
   ]
  },
  {
   "cell_type": "code",
   "execution_count": 10,
   "metadata": {},
   "outputs": [
    {
     "data": {
      "text/plain": [
       "[2, 7, 9, 15, 28, 29, 38]"
      ]
     },
     "execution_count": 10,
     "metadata": {},
     "output_type": "execute_result"
    }
   ],
   "source": [
    "element=[21,38,29,17,4,25,11,32,9]\n",
    "element=[29,7,38,9,2,15,28]\n",
    "\n",
    "shellSort(elements=element)"
   ]
  },
  {
   "cell_type": "code",
   "execution_count": 3,
   "metadata": {},
   "outputs": [],
   "source": [
    "tests=[\n",
    "    [89,78,61,53,23,21,17,12,9,7,6,2,1],\n",
    "    [],\n",
    "    [1,5,8,9],\n",
    "    [234,3,1,56,34,12,9,12,1300]\n",
    "]"
   ]
  },
  {
   "cell_type": "code",
   "execution_count": 4,
   "metadata": {},
   "outputs": [
    {
     "name": "stdout",
     "output_type": "stream",
     "text": [
      "[1, 2, 6, 7, 9, 12, 17, 21, 23, 53, 61, 78, 89]\n",
      "[]\n",
      "[1, 5, 8, 9]\n",
      "[1, 3, 9, 12, 12, 34, 56, 234, 1300]\n"
     ]
    }
   ],
   "source": [
    "for elements in tests:\n",
    "    print(shellSort(elements=elements))"
   ]
  },
  {
   "cell_type": "code",
   "execution_count": 13,
   "metadata": {},
   "outputs": [],
   "source": [
    "import numpy as np\n",
    "import time"
   ]
  },
  {
   "cell_type": "code",
   "execution_count": 19,
   "metadata": {},
   "outputs": [],
   "source": [
    "np.random.seed=45\n",
    "lst=np.random.randint(low=2, high=10000,size=100)"
   ]
  },
  {
   "cell_type": "code",
   "execution_count": 20,
   "metadata": {},
   "outputs": [
    {
     "data": {
      "text/plain": [
       "array([2445, 8571, 8523, 4746,  678,  761, 8603, 8800, 4355, 1613, 5193,\n",
       "       8649, 7217, 4120, 9632, 1472, 1026, 4031,  448, 7510, 3264, 6440,\n",
       "       4471, 4666, 5078, 4905, 5845,  948, 3349, 6167, 6343, 5631, 8701,\n",
       "       2699, 6906, 8756, 6837,  835, 2861, 1443, 4346, 4951, 7300, 2033,\n",
       "       1781, 8239, 1113, 7449, 6194, 9929, 6120,  959, 2135, 5863, 1047,\n",
       "       4194, 1589, 1499, 5146, 7629,  515, 9696,  606, 1509, 9794, 9417,\n",
       "       7190, 3951, 5609, 2533,  441, 4203, 9981, 7866, 3808, 2425, 1668,\n",
       "       1658,   86, 7684, 6113, 6883, 7994, 8782, 4640, 9101, 4770, 7280,\n",
       "        253, 3766, 7895,  502, 8407, 2872, 7527, 2327, 2808, 1430, 6718,\n",
       "       3856])"
      ]
     },
     "execution_count": 20,
     "metadata": {},
     "output_type": "execute_result"
    }
   ],
   "source": [
    "lst"
   ]
  },
  {
   "cell_type": "code",
   "execution_count": 17,
   "metadata": {},
   "outputs": [
    {
     "name": "stdout",
     "output_type": "stream",
     "text": [
      "0.006001949310302734\n"
     ]
    }
   ],
   "source": [
    "st=time.time()\n",
    "shellSort(elements=lst)\n",
    "et=time.time()\n",
    "print(et-st)"
   ]
  },
  {
   "cell_type": "code",
   "execution_count": 18,
   "metadata": {},
   "outputs": [
    {
     "data": {
      "text/plain": [
       "array([  36,  136,  158,  188,  236,  282,  362,  540,  619, 1010, 1258,\n",
       "       1316, 1383, 1467, 1826, 1836, 1873, 2089, 2191, 2204, 2523, 2605,\n",
       "       2692, 3112, 3151, 3175, 3254, 3312, 3534, 3568, 3593, 3829, 3890,\n",
       "       4129, 4337, 4427, 4453, 4461, 4490, 4505, 4727, 4818, 4839, 4910,\n",
       "       4984, 5110, 5179, 5206, 5219, 5292, 5342, 5383, 5510, 5726, 5759,\n",
       "       5787, 5851, 6095, 6155, 6391, 6469, 6472, 6539, 6610, 6658, 6695,\n",
       "       6763, 6773, 6874, 6939, 7037, 7079, 7090, 7166, 7348, 7352, 7748,\n",
       "       7892, 7925, 7966, 7976, 8233, 8324, 8405, 8569, 8710, 8789, 8882,\n",
       "       8946, 8968, 8995, 9053, 9141, 9217, 9244, 9264, 9309, 9763, 9945,\n",
       "       9980])"
      ]
     },
     "execution_count": 18,
     "metadata": {},
     "output_type": "execute_result"
    }
   ],
   "source": [
    "lst"
   ]
  },
  {
   "cell_type": "code",
   "execution_count": null,
   "metadata": {},
   "outputs": [],
   "source": []
  }
 ],
 "metadata": {
  "interpreter": {
   "hash": "32e1961d42f3fbeb0ee29f569be50cb2fa46fd336bd2262018e45872c9fc3b32"
  },
  "kernelspec": {
   "display_name": "Python 3.10.1 ('DSAVenv': venv)",
   "language": "python",
   "name": "python3"
  },
  "language_info": {
   "codemirror_mode": {
    "name": "ipython",
    "version": 3
   },
   "file_extension": ".py",
   "mimetype": "text/x-python",
   "name": "python",
   "nbconvert_exporter": "python",
   "pygments_lexer": "ipython3",
   "version": "3.10.1"
  },
  "orig_nbformat": 4
 },
 "nbformat": 4,
 "nbformat_minor": 2
}
