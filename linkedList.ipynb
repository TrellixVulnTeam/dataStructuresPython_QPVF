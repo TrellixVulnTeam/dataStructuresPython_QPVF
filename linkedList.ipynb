{
 "cells": [
  {
   "cell_type": "code",
   "execution_count": 100,
   "metadata": {},
   "outputs": [],
   "source": [
    "class Node:\n",
    "    def __init__(self, data=None, next=None):\n",
    "        self.data=data\n",
    "        self.next=next"
   ]
  },
  {
   "cell_type": "code",
   "execution_count": 108,
   "metadata": {},
   "outputs": [],
   "source": [
    "class LinkedList:\n",
    "    def __init__(self):\n",
    "        self.head=None\n",
    "    \n",
    "    def insertAtBeginning(self,data):\n",
    "        node=Node(data=data, next=self.head)  # with each function call, next is being stored as an object of the Node Class\n",
    "        self.head=node \n",
    "    \n",
    "    def Print(self):\n",
    "        if self.head is None:\n",
    "            print(\"Linked List is empty\")\n",
    "            return\n",
    "        else:\n",
    "            itr=self.head\n",
    "            llstr=''\n",
    "            while itr:\n",
    "                llstr+=str(itr.data)+'-->'\n",
    "                itr=itr.next  # itr.next is an object of the class Node and not a number\n",
    "            print(llstr)\n",
    "    \n",
    "    def insertAtEnd(self,data):\n",
    "        if self.head is None:\n",
    "            self.head=Node(data,None)\n",
    "            return\n",
    "        \n",
    "        itr=self.head\n",
    "        while itr.next:\n",
    "            itr=itr.next\n",
    "        \n",
    "        itr.next=Node(data=data,next=None)\n",
    "\n",
    "    def insertValues(self,data_list):\n",
    "        \"\"\"\n",
    "        Take a List of Values as an Input\n",
    "        Create a new fresh LinkedList\n",
    "        \"\"\"\n",
    "        self.head=None\n",
    "        \n",
    "        for data in data_list[::-1]:\n",
    "            # self.insertAtEnd(data=data)\n",
    "            node=Node(data=data,next=self.head)\n",
    "            self.head=node\n",
    "    \n",
    "    \n",
    "    def get_length(self,):\n",
    "        \"\"\"\n",
    "        Return a Length of the LinkedList\n",
    "        \"\"\"\n",
    "        itr=self.head\n",
    "        count=0\n",
    "        while itr:\n",
    "            count+=1\n",
    "            itr=itr.next\n",
    "        return count\n",
    "\n",
    "    def removeAt(self,index): \n",
    "        \"\"\"\n",
    "        Remove an Element at a given Index\n",
    "        \"\"\"\n",
    "        if index<0  or index>self.get_length():\n",
    "            raise Exception(\"Invalid Index\")\n",
    "        if index==0:\n",
    "           self.head=self.head.next\n",
    "           return \n",
    "        else:\n",
    "            count=0\n",
    "            while self.head:\n",
    "                if count==index-1:\n",
    "                    self.head.next=self.head.next.next\n",
    "                    break\n",
    "                else:\n",
    "                    self.head=self.head.next\n",
    "                    count+=1\n",
    "\n",
    "    def insertAt(self,index,data):               \n",
    "        \"\"\"\n",
    "        Insert an Element at a Given Index\n",
    "        \"\"\"\n",
    "        if index<0 or index>self.get_length():\n",
    "            raise Exception(\"Invalid Index\")\n",
    "        if index==0:\n",
    "            self.head=Node(data=data,next=self.head)\n",
    "            return\n",
    "        else:\n",
    "            count=0\n",
    "            while self.head:\n",
    "                if count==index-1:\n",
    "                    self.head.next=Node(data=data,next=self.head.next)\n",
    "                    break\n",
    "                else:\n",
    "                    self.head=self.head.next    \n",
    "                    count+=1\n",
    "    "
   ]
  },
  {
   "cell_type": "code",
   "execution_count": 109,
   "metadata": {},
   "outputs": [
    {
     "name": "stdout",
     "output_type": "stream",
     "text": [
      "3-->4-->5-->6-->\n",
      "4-->guava-->5-->6-->\n"
     ]
    }
   ],
   "source": [
    "ll=LinkedList()\n",
    "ll.insertValues(data_list=[3,4,5,6])\n",
    "ll.Print()\n",
    "ll.insertAt(index=2,data=\"guava\")\n",
    "ll.Print()"
   ]
  },
  {
   "cell_type": "code",
   "execution_count": 66,
   "metadata": {},
   "outputs": [],
   "source": [
    "ll=LinkedList()"
   ]
  },
  {
   "cell_type": "code",
   "execution_count": 67,
   "metadata": {},
   "outputs": [],
   "source": [
    "ll.insertAtBeginning(data=5)"
   ]
  },
  {
   "cell_type": "code",
   "execution_count": 68,
   "metadata": {},
   "outputs": [
    {
     "data": {
      "text/plain": [
       "5"
      ]
     },
     "execution_count": 68,
     "metadata": {},
     "output_type": "execute_result"
    }
   ],
   "source": [
    "ll.head.data"
   ]
  },
  {
   "cell_type": "code",
   "execution_count": 70,
   "metadata": {},
   "outputs": [
    {
     "name": "stdout",
     "output_type": "stream",
     "text": [
      "None\n"
     ]
    }
   ],
   "source": [
    "print(ll.head.next)"
   ]
  },
  {
   "cell_type": "code",
   "execution_count": 71,
   "metadata": {},
   "outputs": [],
   "source": [
    "ll.insertAtBeginning(data=89)"
   ]
  },
  {
   "cell_type": "code",
   "execution_count": 72,
   "metadata": {},
   "outputs": [
    {
     "data": {
      "text/plain": [
       "89"
      ]
     },
     "execution_count": 72,
     "metadata": {},
     "output_type": "execute_result"
    }
   ],
   "source": [
    "ll.head.data"
   ]
  },
  {
   "cell_type": "code",
   "execution_count": 73,
   "metadata": {},
   "outputs": [
    {
     "data": {
      "text/plain": [
       "5"
      ]
     },
     "execution_count": 73,
     "metadata": {},
     "output_type": "execute_result"
    }
   ],
   "source": [
    "ll.head.next.data"
   ]
  },
  {
   "cell_type": "code",
   "execution_count": 74,
   "metadata": {},
   "outputs": [
    {
     "name": "stdout",
     "output_type": "stream",
     "text": [
      "None\n"
     ]
    }
   ],
   "source": [
    "print(ll.head.next.next)"
   ]
  },
  {
   "cell_type": "code",
   "execution_count": 14,
   "metadata": {},
   "outputs": [
    {
     "name": "stdout",
     "output_type": "stream",
     "text": [
      "89-->5-->\n"
     ]
    }
   ],
   "source": [
    "ll=LinkedList()\n",
    "ll.insertAtBeginning(data=5)\n",
    "ll.insertAtBeginning(data=89)\n",
    "ll.Print()"
   ]
  },
  {
   "cell_type": "code",
   "execution_count": 15,
   "metadata": {},
   "outputs": [
    {
     "name": "stdout",
     "output_type": "stream",
     "text": [
      "64-->89-->5-->\n"
     ]
    }
   ],
   "source": [
    "ll=LinkedList()\n",
    "ll.insertAtBeginning(data=5)\n",
    "ll.insertAtBeginning(data=89)\n",
    "ll.insertAtBeginning(data=64)\n",
    "ll.Print()"
   ]
  },
  {
   "cell_type": "code",
   "execution_count": 84,
   "metadata": {},
   "outputs": [],
   "source": [
    "ll=LinkedList()\n",
    "ll.insertAtBeginning(data=5)\n",
    "ll.insertAtBeginning(data=89)"
   ]
  },
  {
   "cell_type": "code",
   "execution_count": 86,
   "metadata": {},
   "outputs": [
    {
     "data": {
      "text/plain": [
       "5"
      ]
     },
     "execution_count": 86,
     "metadata": {},
     "output_type": "execute_result"
    }
   ],
   "source": [
    "ll.head.next.data"
   ]
  },
  {
   "cell_type": "code",
   "execution_count": 88,
   "metadata": {},
   "outputs": [],
   "source": [
    "ll.head.next.next"
   ]
  },
  {
   "cell_type": "code",
   "execution_count": 89,
   "metadata": {},
   "outputs": [],
   "source": [
    "ll.insertAtBeginning(data=64)"
   ]
  },
  {
   "cell_type": "code",
   "execution_count": 90,
   "metadata": {},
   "outputs": [
    {
     "data": {
      "text/plain": [
       "64"
      ]
     },
     "execution_count": 90,
     "metadata": {},
     "output_type": "execute_result"
    }
   ],
   "source": [
    "ll.head.data"
   ]
  },
  {
   "cell_type": "code",
   "execution_count": 92,
   "metadata": {},
   "outputs": [
    {
     "data": {
      "text/plain": [
       "89"
      ]
     },
     "execution_count": 92,
     "metadata": {},
     "output_type": "execute_result"
    }
   ],
   "source": [
    "ll.head.next.data"
   ]
  },
  {
   "cell_type": "code",
   "execution_count": 93,
   "metadata": {},
   "outputs": [
    {
     "data": {
      "text/plain": [
       "5"
      ]
     },
     "execution_count": 93,
     "metadata": {},
     "output_type": "execute_result"
    }
   ],
   "source": [
    "ll.head.next.next.data"
   ]
  },
  {
   "cell_type": "code",
   "execution_count": 95,
   "metadata": {},
   "outputs": [
    {
     "name": "stdout",
     "output_type": "stream",
     "text": [
      "None\n"
     ]
    }
   ],
   "source": [
    "print(ll.head.next.next.next)"
   ]
  },
  {
   "cell_type": "code",
   "execution_count": 99,
   "metadata": {},
   "outputs": [
    {
     "name": "stdout",
     "output_type": "stream",
     "text": [
      "89-->5-->79-->\n",
      "None\n"
     ]
    }
   ],
   "source": [
    "ll=LinkedList()\n",
    "ll.insertAtBeginning(data=5)\n",
    "ll.insertAtBeginning(data=89)\n",
    "ll.insertAtEnd(data=79)\n",
    "print(ll.Print())"
   ]
  },
  {
   "cell_type": "code",
   "execution_count": 12,
   "metadata": {},
   "outputs": [
    {
     "name": "stdout",
     "output_type": "stream",
     "text": [
      "5-->89-->79-->\n",
      "None\n"
     ]
    }
   ],
   "source": [
    "## Inserting from the last\n",
    "\n",
    "ll=LinkedList()\n",
    "ll.insertAtEnd(data=5)\n",
    "ll.insertAtEnd(data=89)\n",
    "ll.insertAtEnd(data=79)\n",
    "print(ll.Print())"
   ]
  },
  {
   "cell_type": "code",
   "execution_count": 21,
   "metadata": {},
   "outputs": [
    {
     "name": "stdout",
     "output_type": "stream",
     "text": [
      "3-->4-->5-->6-->\n"
     ]
    }
   ],
   "source": [
    "ll=LinkedList()\n",
    "ll.insertValues(data_list=[3,4,5,6])\n",
    "ll.Print()"
   ]
  },
  {
   "cell_type": "code",
   "execution_count": 28,
   "metadata": {},
   "outputs": [
    {
     "name": "stdout",
     "output_type": "stream",
     "text": [
      "Length of the LinkedList: 4\n"
     ]
    }
   ],
   "source": [
    "ll=LinkedList()\n",
    "ll.insertValues(data_list=[3,4,5,6])\n",
    "print(f\"Length of the LinkedList: {ll.get_length()}\")"
   ]
  },
  {
   "cell_type": "code",
   "execution_count": 66,
   "metadata": {},
   "outputs": [
    {
     "name": "stdout",
     "output_type": "stream",
     "text": [
      "banana-->mango-->apple-->orange-->\n",
      "banana-->apple-->orange-->\n"
     ]
    },
    {
     "ename": "Exception",
     "evalue": "Invalid Index",
     "output_type": "error",
     "traceback": [
      "\u001b[1;31m---------------------------------------------------------------------------\u001b[0m",
      "\u001b[1;31mException\u001b[0m                                 Traceback (most recent call last)",
      "\u001b[1;32md:\\python_projects\\DataStructuresPython\\linkedList.ipynb Cell 25'\u001b[0m in \u001b[0;36m<cell line: 6>\u001b[1;34m()\u001b[0m\n\u001b[0;32m      <a href='vscode-notebook-cell:/d%3A/python_projects/DataStructuresPython/linkedList.ipynb#ch0000025?line=3'>4</a>\u001b[0m ll\u001b[39m.\u001b[39mremoveAt(index\u001b[39m=\u001b[39m\u001b[39m1\u001b[39m)\n\u001b[0;32m      <a href='vscode-notebook-cell:/d%3A/python_projects/DataStructuresPython/linkedList.ipynb#ch0000025?line=4'>5</a>\u001b[0m ll\u001b[39m.\u001b[39mPrint()\n\u001b[1;32m----> <a href='vscode-notebook-cell:/d%3A/python_projects/DataStructuresPython/linkedList.ipynb#ch0000025?line=5'>6</a>\u001b[0m ll\u001b[39m.\u001b[39;49mremoveAt(index\u001b[39m=\u001b[39;49m\u001b[39m20\u001b[39;49m)\n",
      "\u001b[1;32md:\\python_projects\\DataStructuresPython\\linkedList.ipynb Cell 2'\u001b[0m in \u001b[0;36mLinkedList.removeAt\u001b[1;34m(self, index)\u001b[0m\n\u001b[0;32m     <a href='vscode-notebook-cell:/d%3A/python_projects/DataStructuresPython/linkedList.ipynb#ch0000001?line=56'>57</a>\u001b[0m \u001b[39m\"\"\"\u001b[39;00m\n\u001b[0;32m     <a href='vscode-notebook-cell:/d%3A/python_projects/DataStructuresPython/linkedList.ipynb#ch0000001?line=57'>58</a>\u001b[0m \u001b[39mRemove an Element at a given Index\u001b[39;00m\n\u001b[0;32m     <a href='vscode-notebook-cell:/d%3A/python_projects/DataStructuresPython/linkedList.ipynb#ch0000001?line=58'>59</a>\u001b[0m \u001b[39m\"\"\"\u001b[39;00m\n\u001b[0;32m     <a href='vscode-notebook-cell:/d%3A/python_projects/DataStructuresPython/linkedList.ipynb#ch0000001?line=59'>60</a>\u001b[0m \u001b[39mif\u001b[39;00m index\u001b[39m<\u001b[39m\u001b[39m0\u001b[39m  \u001b[39mor\u001b[39;00m index\u001b[39m>\u001b[39m\u001b[39mself\u001b[39m\u001b[39m.\u001b[39mget_length():\n\u001b[1;32m---> <a href='vscode-notebook-cell:/d%3A/python_projects/DataStructuresPython/linkedList.ipynb#ch0000001?line=60'>61</a>\u001b[0m     \u001b[39mraise\u001b[39;00m \u001b[39mException\u001b[39;00m(\u001b[39m\"\u001b[39m\u001b[39mInvalid Index\u001b[39m\u001b[39m\"\u001b[39m)\n\u001b[0;32m     <a href='vscode-notebook-cell:/d%3A/python_projects/DataStructuresPython/linkedList.ipynb#ch0000001?line=61'>62</a>\u001b[0m \u001b[39mif\u001b[39;00m index\u001b[39m==\u001b[39m\u001b[39m0\u001b[39m:\n\u001b[0;32m     <a href='vscode-notebook-cell:/d%3A/python_projects/DataStructuresPython/linkedList.ipynb#ch0000001?line=62'>63</a>\u001b[0m    \u001b[39mself\u001b[39m\u001b[39m.\u001b[39mhead\u001b[39m=\u001b[39m\u001b[39mself\u001b[39m\u001b[39m.\u001b[39mhead\u001b[39m.\u001b[39mnext\n",
      "\u001b[1;31mException\u001b[0m: Invalid Index"
     ]
    }
   ],
   "source": [
    "ll=LinkedList()\n",
    "ll.insertValues(data_list=[\"banana\",'mango','apple',\"orange\"])\n",
    "ll.Print()\n",
    "ll.removeAt(index=1)\n",
    "ll.Print()\n",
    "ll.removeAt(index=20)\n"
   ]
  },
  {
   "cell_type": "code",
   "execution_count": 97,
   "metadata": {},
   "outputs": [
    {
     "name": "stdout",
     "output_type": "stream",
     "text": [
      "banana-->mango-->grapes-->orange-->\n",
      "figs-->banana-->mango-->grapes-->orange-->\n",
      "banana-->jackfruit-->mango-->grapes-->orange-->\n"
     ]
    }
   ],
   "source": [
    "ll=LinkedList()\n",
    "ll.insertValues(data_list=[\"banana\",'mango','grapes',\"orange\"])\n",
    "ll.Print()\n",
    "ll.insertAt(index=0,data=\"figs\")\n",
    "ll.Print()\n",
    "ll.insertAt(index=2,data=\"jackfruit\")\n",
    "ll.Print()"
   ]
  },
  {
   "cell_type": "code",
   "execution_count": null,
   "metadata": {},
   "outputs": [],
   "source": []
  }
 ],
 "metadata": {
  "interpreter": {
   "hash": "32e1961d42f3fbeb0ee29f569be50cb2fa46fd336bd2262018e45872c9fc3b32"
  },
  "kernelspec": {
   "display_name": "Python 3.10.1 ('DSAVenv': venv)",
   "language": "python",
   "name": "python3"
  },
  "language_info": {
   "codemirror_mode": {
    "name": "ipython",
    "version": 3
   },
   "file_extension": ".py",
   "mimetype": "text/x-python",
   "name": "python",
   "nbconvert_exporter": "python",
   "pygments_lexer": "ipython3",
   "version": "3.10.1"
  },
  "orig_nbformat": 4
 },
 "nbformat": 4,
 "nbformat_minor": 2
}
