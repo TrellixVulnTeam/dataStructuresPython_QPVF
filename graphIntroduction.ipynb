{
 "cells": [
  {
   "cell_type": "code",
   "execution_count": 124,
   "metadata": {},
   "outputs": [],
   "source": [
    "class Graph:\n",
    "    def __init__(self,edges):\n",
    "        self.edges=edges\n",
    "        self.graph_direct={}\n",
    "        for start, end in self.edges:\n",
    "            if start in self.graph_direct:\n",
    "                self.graph_direct[start].append(end)\n",
    "            else:\n",
    "                self.graph_direct[start]=[end]\n",
    "        print(f\"Graph Dict: {self.graph_direct}\")\n",
    "        \n",
    "    def getPaths(self, start, end, path=[]):\n",
    "        path=path+[start]\n",
    "        if start==end:\n",
    "            return [path]    \n",
    "        if start not in self.graph_direct:\n",
    "            return []    \n",
    "        \n",
    "        paths=[]\n",
    "        for node in self.graph_direct[start]:\n",
    "            if node not in path:\n",
    "                newPaths=self.getPaths(start=node,end=end,path=path)\n",
    "                for p in newPaths:\n",
    "                    paths.append(p)\n",
    "        \n",
    "        return paths\n",
    "\n",
    "    # def getShortestPath(self,start,end, path=[]):\n",
    "    #     path=path+[start]\n",
    "\n",
    "    #     if start==end:\n",
    "    #         return path\n",
    "\n",
    "    #     if start not in self.graph_direct:\n",
    "    #         return None\n",
    "        \n",
    "    #     shortestPath=None\n",
    "    #     for node in self.graph_direct[start]:\n",
    "    #         if node not in path:\n",
    "    #             sp=self.getShortestPath(start=node,end=end,path=path)\n",
    "    #             if sp:\n",
    "    #                 if shortestPath is None or len(sp)<len(shortestPath):\n",
    "    #                     shortestPath=sp\n",
    "\n",
    "    #     return shortestPath  \n",
    "\n",
    "    def getShortestPath(self,start,end,path=[]):\n",
    "        path=path+[start]\n",
    "        if start==end:\n",
    "            return [path]\n",
    "        if start not in self.graph_direct:\n",
    "            return []\n",
    "       \n",
    "        paths=[]\n",
    "        for index,node in enumerate(self.graph_direct[start]):\n",
    "            if node not in path:\n",
    "                newPath=self.getShortestPath(start=node,end=end,path=path)\n",
    "                if newPath:\n",
    "                    lengthOfNewPath=len(newPath[0])\n",
    "                else:\n",
    "                    lengthOfNewPath=0\n",
    "\n",
    "                if not paths:\n",
    "                    minLengthinPaths=0\n",
    "                else:\n",
    "                    minLengthinPaths=len(paths[0])\n",
    "\n",
    "                if minLengthinPaths and lengthOfNewPath:\n",
    "                    if lengthOfNewPath<=minLengthinPaths:\n",
    "                        paths.pop()\n",
    "                        for p in newPath:\n",
    "                            paths.append(p)\n",
    "                else:\n",
    "                    for p in newPath:\n",
    "                        paths.append(p)\n",
    "        return paths"
   ]
  },
  {
   "cell_type": "code",
   "execution_count": 125,
   "metadata": {},
   "outputs": [
    {
     "name": "stdout",
     "output_type": "stream",
     "text": [
      "Graph Dict: {'Mumbai': ['Paris', 'Dubai'], 'Paris': ['Dubai', 'New York'], 'Dubai': ['New York', 'Yumthang'], 'New York': ['Toronto', 'Yumthang']}\n"
     ]
    }
   ],
   "source": [
    "routes=routes = [\n",
    "        (\"Mumbai\", \"Paris\",),\n",
    "        (\"Mumbai\", \"Dubai\",),\n",
    "        (\"Paris\", \"Dubai\",),\n",
    "        (\"Paris\", \"New York\",),\n",
    "        (\"Dubai\", \"New York\",),\n",
    "        (\"Dubai\", \"Yumthang\",),\n",
    "        (\"New York\", \"Toronto\",),\n",
    "        (\"New York\", \"Yumthang\")\n",
    "    ]\n",
    "route_graph=Graph(edges=routes)\n"
   ]
  },
  {
   "cell_type": "code",
   "execution_count": 126,
   "metadata": {},
   "outputs": [
    {
     "data": {
      "text/plain": [
       "[['Mumbai', 'Paris', 'Dubai', 'New York', 'Toronto'],\n",
       " ['Mumbai', 'Paris', 'New York', 'Toronto'],\n",
       " ['Mumbai', 'Dubai', 'New York', 'Toronto']]"
      ]
     },
     "execution_count": 126,
     "metadata": {},
     "output_type": "execute_result"
    }
   ],
   "source": [
    "route_graph.getPaths(start=\"Mumbai\",end=\"Toronto\")"
   ]
  },
  {
   "cell_type": "code",
   "execution_count": 127,
   "metadata": {},
   "outputs": [
    {
     "data": {
      "text/plain": [
       "[['Mumbai', 'Dubai', 'New York', 'Toronto']]"
      ]
     },
     "execution_count": 127,
     "metadata": {},
     "output_type": "execute_result"
    }
   ],
   "source": [
    "route_graph.getShortestPath(start=\"Mumbai\",end=\"Toronto\")"
   ]
  },
  {
   "cell_type": "code",
   "execution_count": 121,
   "metadata": {},
   "outputs": [],
   "source": [
    "class Graph:\n",
    "    def __init__(self,edges):\n",
    "        self.edges=edges\n",
    "        self.graph_direct={}\n",
    "        for start, end in self.edges:\n",
    "            if start in self.graph_direct:\n",
    "                self.graph_direct[start].append(end)\n",
    "            else:\n",
    "                self.graph_direct[start]=[end]\n",
    "        print(f\"Graph Dict: {self.graph_direct}\")\n",
    "\n",
    "    def getPaths(self, start, end, path=[]):\n",
    "        path=path+[start]\n",
    "        if start==end:\n",
    "            return [path]    \n",
    "        if start not in self.graph_direct:\n",
    "            return []    \n",
    "        else:\n",
    "            paths=[]\n",
    "            for index,node in enumerate(self.graph_direct[start]):\n",
    "                if node not in path:\n",
    "                    newPaths=self.getPaths(start=node,end=end,path=path)\n",
    "                    for p in newPaths:\n",
    "                        paths.append(p)\n",
    "            \n",
    "            return paths\n",
    "    def getShortestPath(self,start,end,path=[]):\n",
    "        path=path+[start]\n",
    "        if start==end:\n",
    "            return [path]\n",
    "        if start not in self.graph_direct:\n",
    "            return []\n",
    "       \n",
    "        paths=[]\n",
    "        for index,node in enumerate(self.graph_direct[start]):\n",
    "            if node not in path:\n",
    "                newPath=self.getShortestPath(start=node,end=end,path=path)\n",
    "                if newPath:\n",
    "                    lengthOfNewPath=len(newPath[0])\n",
    "                else:\n",
    "                    lengthOfNewPath=0\n",
    "\n",
    "                if not paths:\n",
    "                    minLengthinPaths=0\n",
    "                else:\n",
    "                    minLengthinPaths=len(paths[0])\n",
    "\n",
    "                if minLengthinPaths and lengthOfNewPath:\n",
    "                    if lengthOfNewPath<minLengthinPaths:\n",
    "                        paths.pop()\n",
    "                        for p in newPath:\n",
    "                            paths.append(p)\n",
    "                else:\n",
    "                    for p in newPath:\n",
    "                        paths.append(p)\n",
    "        return paths\n",
    "\n",
    "        \n",
    "            \n",
    "        \n"
   ]
  },
  {
   "cell_type": "code",
   "execution_count": 90,
   "metadata": {},
   "outputs": [
    {
     "name": "stdout",
     "output_type": "stream",
     "text": [
      "Graph Dict: {'Mumbai': ['Paris', 'Dubai'], 'Paris': ['Dubai', 'New York'], 'Dubai': ['New York'], 'New York': ['Toronto']}\n"
     ]
    }
   ],
   "source": [
    "route_graph = Graph(edges=routes)"
   ]
  },
  {
   "cell_type": "code",
   "execution_count": 65,
   "metadata": {},
   "outputs": [
    {
     "data": {
      "text/plain": [
       "[['Mumbai', 'Paris', 'Dubai', 'New York', 'Toronto'],\n",
       " ['Mumbai', 'Paris', 'New York', 'Toronto'],\n",
       " ['Mumbai', 'Dubai', 'New York', 'Toronto']]"
      ]
     },
     "execution_count": 65,
     "metadata": {},
     "output_type": "execute_result"
    }
   ],
   "source": [
    "route_graph.getPaths(start=\"Mumbai\", end=\"Toronto\")"
   ]
  },
  {
   "cell_type": "code",
   "execution_count": 88,
   "metadata": {},
   "outputs": [
    {
     "data": {
      "text/plain": [
       "[]"
      ]
     },
     "execution_count": 88,
     "metadata": {},
     "output_type": "execute_result"
    }
   ],
   "source": [
    "route_graph.getShortestPath(start=\"Dubai\",end=\"Toronto\")"
   ]
  },
  {
   "cell_type": "code",
   "execution_count": null,
   "metadata": {},
   "outputs": [],
   "source": []
  },
  {
   "cell_type": "code",
   "execution_count": null,
   "metadata": {},
   "outputs": [],
   "source": []
  },
  {
   "cell_type": "code",
   "execution_count": 7,
   "metadata": {},
   "outputs": [
    {
     "data": {
      "text/plain": [
       "['Mumbai', 'Paris', 'New York']"
      ]
     },
     "execution_count": 7,
     "metadata": {},
     "output_type": "execute_result"
    }
   ],
   "source": [
    "route_graph.getShortestPath(start=\"Mumbai\", end=\"New York\")"
   ]
  },
  {
   "cell_type": "markdown",
   "metadata": {},
   "source": [
    "Mumbai -> Paris -> Dubai -> NewYork -> Toronto\n",
    "Mumbai -> Paris -> NewYork -> Toronto\n",
    "Mumbai -> Dubai -> NewYork -> Toronto\n"
   ]
  },
  {
   "cell_type": "markdown",
   "metadata": {},
   "source": []
  },
  {
   "cell_type": "markdown",
   "metadata": {},
   "source": []
  }
 ],
 "metadata": {
  "interpreter": {
   "hash": "32e1961d42f3fbeb0ee29f569be50cb2fa46fd336bd2262018e45872c9fc3b32"
  },
  "kernelspec": {
   "display_name": "Python 3.10.1 ('DSAVenv': venv)",
   "language": "python",
   "name": "python3"
  },
  "language_info": {
   "codemirror_mode": {
    "name": "ipython",
    "version": 3
   },
   "file_extension": ".py",
   "mimetype": "text/x-python",
   "name": "python",
   "nbconvert_exporter": "python",
   "pygments_lexer": "ipython3",
   "version": "3.10.1"
  },
  "orig_nbformat": 4
 },
 "nbformat": 4,
 "nbformat_minor": 2
}
