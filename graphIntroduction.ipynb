{
 "cells": [
  {
   "cell_type": "code",
   "execution_count": 60,
   "metadata": {},
   "outputs": [],
   "source": [
    "class Graph:\n",
    "    def __init__(self,edges):\n",
    "        self.edges=edges\n",
    "        self.graph_direct={}\n",
    "        for start, end in self.edges:\n",
    "            if start in self.graph_direct:\n",
    "                self.graph_direct[start].append(end)\n",
    "            else:\n",
    "                self.graph_direct[start]=[end]\n",
    "        print(f\"Graph Dict: {self.graph_direct}\")\n",
    "    \n",
    "    # def getPaths(self,start,end,path=[]):\n",
    "    #     \"\"\"\n",
    "    #     Input: Start and End Points\n",
    "    #     Output: Returns all the Path\n",
    "    #     \"\"\"\n",
    "    #     allPath=[]\n",
    "    #     if start in self.graph_direct:\n",
    "            \n",
    "    #         for dest in self.graph_direct[start]: \n",
    "    #             path+=[start]\n",
    "                \n",
    "\n",
    "    #             if dest==end: \n",
    "    #                 path+=[end]\n",
    "    #                 # print(\"Route Found\")\n",
    "    #                 return [path]\n",
    "                    \n",
    "    #             else:\n",
    "    #                 # print(\"Indirect Path\")\n",
    "    #                 newPaths=self.getPaths(start=dest,end=end,path=path)\n",
    "    #                 print(newPaths)\n",
    "                    \n",
    "    #                 for path in newPaths:\n",
    "    #                     allPath.append(path)\n",
    "    #                 path=[]\n",
    "    #     return allPath\n",
    "    #     # else:\n",
    "    #     #     print(\"Starting Station is Not Present\")\n",
    "        \n",
    "    def getPaths(self, start, end, path=[]):\n",
    "        path=path+[start]\n",
    "        if start==end:\n",
    "            return [path]    \n",
    "        if start not in self.graph_direct:\n",
    "            return []    \n",
    "        \n",
    "        paths=[]\n",
    "        for node in self.graph_direct[start]:\n",
    "            if node not in path:\n",
    "                newPaths=self.getPaths(start=node,end=end,path=path)\n",
    "                for p in newPaths:\n",
    "                    paths.append(p)\n",
    "        \n",
    "        return paths\n",
    "\n",
    "    def getShortestPath(self,start,end, path=[]):\n",
    "        path=path+[start]\n",
    "\n",
    "        if start==end:\n",
    "            return path\n",
    "\n",
    "        if start not in self.graph_direct:\n",
    "            return None\n",
    "        \n",
    "        shortestPath=None\n",
    "        for node in self.graph_direct[start]:\n",
    "            if node not in path:\n",
    "                sp=self.getShortestPath(start=node,end=end,path=path)\n",
    "                if sp:\n",
    "                    if shortestPath is None or len(sp)<len(shortestPath):\n",
    "                        shortestPath=sp\n",
    "\n",
    "        return shortestPath  "
   ]
  },
  {
   "cell_type": "code",
   "execution_count": 61,
   "metadata": {},
   "outputs": [
    {
     "name": "stdout",
     "output_type": "stream",
     "text": [
      "Graph Dict: {'Mumbai': ['Paris', 'Dubai'], 'Paris': ['Dubai', 'New York'], 'Dubai': ['New York'], 'New York': ['Toronto']}\n"
     ]
    }
   ],
   "source": [
    "routes=[\n",
    "    (\"Mumbai\",\"Paris\",),\n",
    "    (\"Mumbai\",\"Dubai\",),\n",
    "    (\"Paris\",\"Dubai\",),\n",
    "    (\"Paris\",\"New York\",),\n",
    "    (\"Dubai\",\"New York\",),\n",
    "    (\"New York\",\"Toronto\",),\n",
    "]\n",
    "\n",
    "route_graph=Graph(edges=routes)\n"
   ]
  },
  {
   "cell_type": "code",
   "execution_count": 62,
   "metadata": {},
   "outputs": [
    {
     "data": {
      "text/plain": [
       "[['Mumbai', 'Paris', 'Dubai', 'New York'],\n",
       " ['Mumbai', 'Paris', 'New York'],\n",
       " ['Mumbai', 'Dubai', 'New York']]"
      ]
     },
     "execution_count": 62,
     "metadata": {},
     "output_type": "execute_result"
    }
   ],
   "source": [
    "route_graph.getPaths(start=\"Mumbai\",end=\"New York\")"
   ]
  },
  {
   "cell_type": "code",
   "execution_count": null,
   "metadata": {},
   "outputs": [],
   "source": []
  },
  {
   "cell_type": "code",
   "execution_count": null,
   "metadata": {},
   "outputs": [],
   "source": []
  },
  {
   "cell_type": "code",
   "execution_count": null,
   "metadata": {},
   "outputs": [],
   "source": []
  },
  {
   "cell_type": "code",
   "execution_count": null,
   "metadata": {},
   "outputs": [],
   "source": []
  },
  {
   "cell_type": "code",
   "execution_count": null,
   "metadata": {},
   "outputs": [],
   "source": []
  },
  {
   "cell_type": "code",
   "execution_count": null,
   "metadata": {},
   "outputs": [],
   "source": []
  },
  {
   "cell_type": "code",
   "execution_count": null,
   "metadata": {},
   "outputs": [],
   "source": []
  },
  {
   "cell_type": "code",
   "execution_count": null,
   "metadata": {},
   "outputs": [],
   "source": []
  },
  {
   "cell_type": "code",
   "execution_count": 7,
   "metadata": {},
   "outputs": [
    {
     "data": {
      "text/plain": [
       "['Mumbai', 'Paris', 'New York']"
      ]
     },
     "execution_count": 7,
     "metadata": {},
     "output_type": "execute_result"
    }
   ],
   "source": [
    "route_graph.getShortestPath(start=\"Mumbai\", end=\"New York\")"
   ]
  },
  {
   "cell_type": "markdown",
   "metadata": {},
   "source": [
    "Mumbai -> Paris -> Dubai -> NewYork -> Toronto\n",
    "Mumbai -> Paris -> NewYork -> Toronto\n",
    "Mumbai -> Dubai -> NewYork -> Toronto\n"
   ]
  },
  {
   "cell_type": "markdown",
   "metadata": {},
   "source": []
  },
  {
   "cell_type": "markdown",
   "metadata": {},
   "source": []
  }
 ],
 "metadata": {
  "interpreter": {
   "hash": "32e1961d42f3fbeb0ee29f569be50cb2fa46fd336bd2262018e45872c9fc3b32"
  },
  "kernelspec": {
   "display_name": "Python 3.10.1 ('DSAVenv': venv)",
   "language": "python",
   "name": "python3"
  },
  "language_info": {
   "codemirror_mode": {
    "name": "ipython",
    "version": 3
   },
   "file_extension": ".py",
   "mimetype": "text/x-python",
   "name": "python",
   "nbconvert_exporter": "python",
   "pygments_lexer": "ipython3",
   "version": "3.10.1"
  },
  "orig_nbformat": 4
 },
 "nbformat": 4,
 "nbformat_minor": 2
}
