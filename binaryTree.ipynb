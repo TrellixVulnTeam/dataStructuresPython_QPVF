{
 "cells": [
  {
   "cell_type": "code",
   "execution_count": 15,
   "metadata": {},
   "outputs": [],
   "source": [
    "class BinarySearchTreeNode:\n",
    "    def __init__(self, data):\n",
    "        self.data=data\n",
    "        self.left=None\n",
    "        self.right=None\n",
    "    \n",
    "    \n",
    "    def addChild(self,data):\n",
    "\n",
    "        if self.data==data:\n",
    "            return\n",
    "        if data < self.data:\n",
    "            # Add Data in Left SubTree\n",
    "            if self.left: \n",
    "                self.left.addChild(data=data)\n",
    "            else:\n",
    "                self.left=BinarySearchTreeNode(data=data)\n",
    "\n",
    "        if data > self.data:\n",
    "            # Add data in the Right SubTree\n",
    "            if self.right:\n",
    "                self.right.addChild(data=data)\n",
    "            else:\n",
    "                self.right=BinarySearchTreeNode(data=data)\n",
    "    \n",
    "    def inOrderTraversal(self):\n",
    "        elements=[]\n",
    "\n",
    "        elements.append(self.data)\n",
    "\n",
    "        if self.left:\n",
    "            elements+=self.left.inOrderTraversal()\n",
    "        \n",
    "        if self.right:\n",
    "            elements+=self.right.inOrderTraversal()\n",
    "\n",
    "        return elements\n",
    "        # return sorted(list(set(elements)))\n",
    "\n",
    "\n",
    "    def search(self,val):\n",
    "        if self.data==val:\n",
    "            return True\n",
    "        \n",
    "        if val<self.data:\n",
    "            if self.left:\n",
    "                return self.left.search(val=val)\n",
    "            else:\n",
    "                return False\n",
    "\n",
    "        if val>self.data:\n",
    "            if self.right:\n",
    "                return self.right.search(val=val)\n",
    "            else:\n",
    "                return False\n",
    "    \n",
    "\n",
    "    def findMax(self):\n",
    "        if not self.right:\n",
    "            return self.data\n",
    "        else:\n",
    "            return self.right.findMax()\n",
    "\n",
    "    def findMin(self):\n",
    "\n",
    "        if not self.left:\n",
    "            return self.data\n",
    "        else: \n",
    "            return self.left.findMin()\n",
    "        \n",
    "    def delete(self,val):\n",
    "\n",
    "        # Default Condition\n",
    "        if val<self.data:\n",
    "            if self.left:\n",
    "                self.left=self.left.delete(val=val)\n",
    "            else:  # This Else condition is Not Mandatory, as Python by default will output None\n",
    "                return None\n",
    "        elif val>self.data:\n",
    "            if self.right:\n",
    "                self.right=self.right.delete(val=val)\n",
    "            else:\n",
    "                return None\n",
    "        else:  # when the Match happens, i.e., default condition\n",
    "            if self.left is None and self.right is None:  # When we have approached the Leaf Node\n",
    "                print(f\"Reaching Here. Data: {self.data}\")\n",
    "                return None\n",
    "            elif self.right is None:  # If the Node only has a left Child Node, substitute the left child node\n",
    "                return self.left\n",
    "            elif self.left is None:  # If the Node only has a right Child Node, substitute the right child node\n",
    "                return self.right\n",
    "            elif self.right and self.left:  # If both nodes are Present:\n",
    "                \n",
    "                # Implement Minimum from the Right SubTree    \n",
    "                # minVal=self.right.findMin()  # Take the Min Value from the Right\n",
    "                # self.data=minVal  # Replace the Data for that node where value matched with the Min Value\n",
    "                # self.right=self.right.delete(val=minVal)  # Delete the Min Value Node\n",
    "                \n",
    "                # Implement Maximum from the left SubTree\n",
    "                maxVal=self.left.findMax()\n",
    "                self.data=maxVal\n",
    "                self.left=self.left.delete(val=maxVal)\n",
    "        return self\n"
   ]
  },
  {
   "cell_type": "code",
   "execution_count": 58,
   "metadata": {},
   "outputs": [],
   "source": [
    "root=BinarySearchTreeNode(data=6)"
   ]
  },
  {
   "cell_type": "code",
   "execution_count": 59,
   "metadata": {},
   "outputs": [],
   "source": [
    "root.addChild(data=3)\n",
    "root.addChild(data=8)"
   ]
  },
  {
   "cell_type": "code",
   "execution_count": 31,
   "metadata": {},
   "outputs": [
    {
     "data": {
      "text/plain": [
       "6"
      ]
     },
     "execution_count": 31,
     "metadata": {},
     "output_type": "execute_result"
    }
   ],
   "source": [
    "root.data"
   ]
  },
  {
   "cell_type": "code",
   "execution_count": 32,
   "metadata": {},
   "outputs": [
    {
     "data": {
      "text/plain": [
       "3"
      ]
     },
     "execution_count": 32,
     "metadata": {},
     "output_type": "execute_result"
    }
   ],
   "source": [
    "root.left.data"
   ]
  },
  {
   "cell_type": "code",
   "execution_count": 33,
   "metadata": {},
   "outputs": [
    {
     "data": {
      "text/plain": [
       "8"
      ]
     },
     "execution_count": 33,
     "metadata": {},
     "output_type": "execute_result"
    }
   ],
   "source": [
    "root.right.data"
   ]
  },
  {
   "cell_type": "code",
   "execution_count": 34,
   "metadata": {},
   "outputs": [],
   "source": [
    "root.addChild(data=11)"
   ]
  },
  {
   "cell_type": "code",
   "execution_count": 35,
   "metadata": {},
   "outputs": [
    {
     "data": {
      "text/plain": [
       "11"
      ]
     },
     "execution_count": 35,
     "metadata": {},
     "output_type": "execute_result"
    }
   ],
   "source": [
    "root.right.right.data"
   ]
  },
  {
   "cell_type": "code",
   "execution_count": 36,
   "metadata": {},
   "outputs": [
    {
     "ename": "AttributeError",
     "evalue": "'NoneType' object has no attribute 'data'",
     "output_type": "error",
     "traceback": [
      "\u001b[1;31m---------------------------------------------------------------------------\u001b[0m",
      "\u001b[1;31mAttributeError\u001b[0m                            Traceback (most recent call last)",
      "\u001b[1;32md:\\python_projects\\DataStructuresPython\\binaryTree.ipynb Cell 9'\u001b[0m in \u001b[0;36m<cell line: 1>\u001b[1;34m()\u001b[0m\n\u001b[1;32m----> <a href='vscode-notebook-cell:/d%3A/python_projects/DataStructuresPython/binaryTree.ipynb#ch0000008?line=0'>1</a>\u001b[0m root\u001b[39m.\u001b[39;49mright\u001b[39m.\u001b[39;49mleft\u001b[39m.\u001b[39;49mdata\n",
      "\u001b[1;31mAttributeError\u001b[0m: 'NoneType' object has no attribute 'data'"
     ]
    }
   ],
   "source": [
    "root.right.left.data"
   ]
  },
  {
   "cell_type": "code",
   "execution_count": 37,
   "metadata": {},
   "outputs": [],
   "source": [
    "root.addChild(data=2)"
   ]
  },
  {
   "cell_type": "code",
   "execution_count": 38,
   "metadata": {},
   "outputs": [
    {
     "data": {
      "text/plain": [
       "2"
      ]
     },
     "execution_count": 38,
     "metadata": {},
     "output_type": "execute_result"
    }
   ],
   "source": [
    "root.left.left.data"
   ]
  },
  {
   "cell_type": "code",
   "execution_count": 39,
   "metadata": {},
   "outputs": [
    {
     "data": {
      "text/plain": [
       "[6, 3, 2, 8, 11]"
      ]
     },
     "execution_count": 39,
     "metadata": {},
     "output_type": "execute_result"
    }
   ],
   "source": [
    "root.inOrderTraversal()"
   ]
  },
  {
   "cell_type": "code",
   "execution_count": 16,
   "metadata": {},
   "outputs": [
    {
     "name": "stdout",
     "output_type": "stream",
     "text": [
      "[240, 118, 100, 85, 102, 127, 120, 155, 275, 256, 254, 260, 290, 285, 320]\n",
      "Reaching Here. Data: 260\n",
      "[240, 118, 100, 85, 102, 127, 120, 155, 260, 256, 254, 290, 285, 320]\n"
     ]
    }
   ],
   "source": [
    "# elements=[17,4,1,20,9,23,18,34]\n",
    "elements=[240,118,275,100,127,256,290,85,102,120,155,254,260,285,320]\n",
    "\n",
    "root=BinarySearchTreeNode(data=elements[0])\n",
    "\n",
    "for i in elements[1:]:\n",
    "    root.addChild(data=i)\n",
    "\n",
    "print(root.inOrderTraversal())\n",
    "\n",
    "# root.delete(val=20)\n",
    "root.delete(val=275)\n",
    "\n",
    "print(root.inOrderTraversal())"
   ]
  },
  {
   "cell_type": "code",
   "execution_count": 69,
   "metadata": {},
   "outputs": [],
   "source": [
    "elements=[240,118,275,100,127,256,290,85,102,120,155,254,260,285,320]\n",
    "\n",
    "root=BinarySearchTreeNode(data=elements[0])\n",
    "\n",
    "for i in elements[1:]:\n",
    "    root.addChild(data=i)"
   ]
  },
  {
   "cell_type": "code",
   "execution_count": 70,
   "metadata": {},
   "outputs": [
    {
     "name": "stdout",
     "output_type": "stream",
     "text": [
      "[240, 118, 100, 85, 102, 127, 120, 155, 275, 256, 254, 260, 290, 285, 320]\n"
     ]
    }
   ],
   "source": [
    "print(root.inOrderTraversal())"
   ]
  },
  {
   "cell_type": "code",
   "execution_count": 62,
   "metadata": {},
   "outputs": [
    {
     "data": {
      "text/plain": [
       "False"
      ]
     },
     "execution_count": 62,
     "metadata": {},
     "output_type": "execute_result"
    }
   ],
   "source": [
    "root.search(val=9)"
   ]
  },
  {
   "cell_type": "code",
   "execution_count": 63,
   "metadata": {},
   "outputs": [
    {
     "data": {
      "text/plain": [
       "False"
      ]
     },
     "execution_count": 63,
     "metadata": {},
     "output_type": "execute_result"
    }
   ],
   "source": [
    "root.search(val=21)"
   ]
  },
  {
   "cell_type": "code",
   "execution_count": 64,
   "metadata": {},
   "outputs": [
    {
     "data": {
      "text/plain": [
       "85"
      ]
     },
     "execution_count": 64,
     "metadata": {},
     "output_type": "execute_result"
    }
   ],
   "source": [
    "root.findMin()"
   ]
  },
  {
   "cell_type": "code",
   "execution_count": 65,
   "metadata": {},
   "outputs": [
    {
     "data": {
      "text/plain": [
       "320"
      ]
     },
     "execution_count": 65,
     "metadata": {},
     "output_type": "execute_result"
    }
   ],
   "source": [
    "root.findMax()"
   ]
  },
  {
   "cell_type": "code",
   "execution_count": 71,
   "metadata": {},
   "outputs": [
    {
     "data": {
      "text/plain": [
       "<__main__.BinarySearchTreeNode at 0x2b49bcf48e0>"
      ]
     },
     "execution_count": 71,
     "metadata": {},
     "output_type": "execute_result"
    }
   ],
   "source": [
    "root.delete(val=275)"
   ]
  },
  {
   "cell_type": "code",
   "execution_count": 72,
   "metadata": {},
   "outputs": [
    {
     "data": {
      "text/plain": [
       "[240, 118, 100, 85, 102, 127, 120, 155, 285, 256, 254, 260, 290, 285, 320]"
      ]
     },
     "execution_count": 72,
     "metadata": {},
     "output_type": "execute_result"
    }
   ],
   "source": [
    "root.inOrderTraversal()"
   ]
  },
  {
   "cell_type": "code",
   "execution_count": null,
   "metadata": {},
   "outputs": [],
   "source": []
  }
 ],
 "metadata": {
  "interpreter": {
   "hash": "32e1961d42f3fbeb0ee29f569be50cb2fa46fd336bd2262018e45872c9fc3b32"
  },
  "kernelspec": {
   "display_name": "Python 3.10.1 ('DSAVenv': venv)",
   "language": "python",
   "name": "python3"
  },
  "language_info": {
   "codemirror_mode": {
    "name": "ipython",
    "version": 3
   },
   "file_extension": ".py",
   "mimetype": "text/x-python",
   "name": "python",
   "nbconvert_exporter": "python",
   "pygments_lexer": "ipython3",
   "version": "3.10.1"
  },
  "orig_nbformat": 4
 },
 "nbformat": 4,
 "nbformat_minor": 2
}
