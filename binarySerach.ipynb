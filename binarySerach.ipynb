{
 "cells": [
  {
   "cell_type": "code",
   "execution_count": 211,
   "metadata": {},
   "outputs": [],
   "source": [
    "import time\n",
    "def timeit(func):\n",
    "    def wrapper(*args, **kwargs):\n",
    "        start=time.time()\n",
    "        result=func(*args, **kwargs)\n",
    "        end=time.time()\n",
    "        print(f\"{func.__name__} took {end-start} seconds\")\n",
    "        return result\n",
    "    return wrapper"
   ]
  },
  {
   "cell_type": "code",
   "execution_count": 212,
   "metadata": {},
   "outputs": [],
   "source": [
    "@timeit\n",
    "def linearSearch(numbersList, numberToFind):\n",
    "    for index, element in enumerate(numbersList):\n",
    "        if element==numberToFind:\n",
    "            return index\n",
    "    else:\n",
    "        return -1"
   ]
  },
  {
   "cell_type": "code",
   "execution_count": 247,
   "metadata": {},
   "outputs": [],
   "source": [
    "@timeit\n",
    "def binarySearch(numbersList,numberToFind):\n",
    "    Kn=len(numbersList)\n",
    "    searchN=Kn//2\n",
    "    indexVal=searchN\n",
    "    if numberToFind==numbersList[searchN]:\n",
    "        return indexVal\n",
    "    elif numberToFind<=numbersList[searchN]:\n",
    "        numbersList=numbersList[:searchN]\n",
    "        if numberToFind<numbersList[0]:\n",
    "            return None\n",
    "        else:  \n",
    "            indexVal=binarySearch(numbersList,numberToFind)\n",
    "    elif numberToFind>=numbersList[searchN]:\n",
    "        numbersList=numbersList[searchN:]\n",
    "        if numberToFind>numbersList[-1]:\n",
    "            return None\n",
    "        else:\n",
    "            indexVal=indexVal+binarySearch(numbersList,numberToFind)\n",
    "    \n",
    "    return indexVal\n",
    "\n",
    "    \n",
    "        "
   ]
  },
  {
   "cell_type": "code",
   "execution_count": 250,
   "metadata": {},
   "outputs": [
    {
     "name": "stdout",
     "output_type": "stream",
     "text": [
      "linearSearch took 0.13899993896484375 seconds\n",
      "binarySearch took 0.0 seconds\n",
      "binarySearch took 0.0 seconds\n",
      "binarySearch took 0.0 seconds\n",
      "binarySearch took 0.0 seconds\n",
      "binarySearch took 0.0 seconds\n",
      "binarySearch took 0.0 seconds\n",
      "binarySearch took 0.0 seconds\n",
      "binarySearch took 0.0 seconds\n",
      "binarySearch took 0.0 seconds\n",
      "binarySearch took 0.0 seconds\n",
      "binarySearch took 0.0 seconds\n",
      "binarySearch took 0.0010006427764892578 seconds\n",
      "binarySearch took 0.0010006427764892578 seconds\n",
      "binarySearch took 0.0010006427764892578 seconds\n",
      "binarySearch took 0.0010006427764892578 seconds\n",
      "binarySearch took 0.0010006427764892578 seconds\n",
      "binarySearch took 0.0010006427764892578 seconds\n",
      "binarySearch took 0.0010006427764892578 seconds\n",
      "binarySearch took 0.003002166748046875 seconds\n",
      "binarySearch took 0.008004188537597656 seconds\n"
     ]
    },
    {
     "data": {
      "text/plain": [
       "1000000"
      ]
     },
     "execution_count": 250,
     "metadata": {},
     "output_type": "execute_result"
    }
   ],
   "source": [
    "# numbersList=[12, 15, 17, 19, 21, 24, 45, 67,69,73]\n",
    "# numberToFind=73\n",
    "\n",
    "numbersList=[i for i in range(1000001)]\n",
    "numberToFind=1000000\n",
    "linearSearch(numbersList=numbersList, numberToFind=numberToFind)\n",
    "\n",
    "binarySearch(numbersList=numbersList, numberToFind=numberToFind)"
   ]
  },
  {
   "cell_type": "code",
   "execution_count": 237,
   "metadata": {},
   "outputs": [],
   "source": [
    "# Technique through While Loop as explained in Code Basics\n",
    "@timeit\n",
    "def binarySearch(numbersList,numberToFind):\n",
    "\n",
    "    leftIndex=0\n",
    "    rightIndex=len(numbersList)-1\n",
    "\n",
    "    while leftIndex<=rightIndex:\n",
    "        midIndex=(leftIndex+rightIndex)//2\n",
    "        if midIndex<leftIndex or midIndex>rightIndex:\n",
    "            return -1\n",
    "        if numberToFind==numbersList[midIndex]:\n",
    "            return midIndex\n",
    "        elif numberToFind>numbersList[midIndex]:\n",
    "            leftIndex=midIndex+1\n",
    "        else:\n",
    "            rightIndex=midIndex-1\n",
    "    \n",
    "    else:\n",
    "        return -1"
   ]
  },
  {
   "cell_type": "code",
   "execution_count": 240,
   "metadata": {},
   "outputs": [
    {
     "name": "stdout",
     "output_type": "stream",
     "text": [
      "linearSearch took 0.13684320449829102 seconds\n",
      "binarySearch took 0.0 seconds\n"
     ]
    },
    {
     "data": {
      "text/plain": [
       "1000000"
      ]
     },
     "execution_count": 240,
     "metadata": {},
     "output_type": "execute_result"
    }
   ],
   "source": [
    "linearSearch(numbersList=numbersList, numberToFind=numberToFind)\n",
    "binarySearch(numbersList=numbersList, numberToFind=numberToFind)"
   ]
  },
  {
   "cell_type": "code",
   "execution_count": 234,
   "metadata": {},
   "outputs": [
    {
     "name": "stdout",
     "output_type": "stream",
     "text": [
      "binarySearch took 0.0 seconds\n"
     ]
    },
    {
     "data": {
      "text/plain": [
       "1000000"
      ]
     },
     "execution_count": 234,
     "metadata": {},
     "output_type": "execute_result"
    }
   ],
   "source": [
    "@timeit\n",
    "def binarySearch(numbersList,numberToFind):\n",
    "\n",
    "    leftIndex=0\n",
    "    rightIndex=len(numbersList)-1\n",
    "\n",
    "    while leftIndex<=rightIndex:\n",
    "        midIndex=(leftIndex+rightIndex)//2\n",
    "        if midIndex<leftIndex or midIndex>rightIndex:\n",
    "            return -1\n",
    "        if numberToFind==numbersList[midIndex]:\n",
    "            return midIndex\n",
    "        elif numberToFind>numbersList[midIndex]:\n",
    "            leftIndex=midIndex+1\n",
    "        else:\n",
    "            rightIndex=midIndex-1\n",
    "    \n",
    "    else:\n",
    "        return -1\n"
   ]
  },
  {
   "cell_type": "code",
   "execution_count": 242,
   "metadata": {},
   "outputs": [],
   "source": [
    "@timeit\n",
    "def binarySearchRecursiveCodeBasics(numbersList,numberToFind,leftIndex,rightIndex):\n",
    "\n",
    "\n",
    "    if leftIndex>rightIndex:\n",
    "        return -1\n",
    "   \n",
    "    midIndex=(leftIndex+rightIndex)//2\n",
    "    \n",
    "    if midIndex>=len(numbersList) or midIndex<0:\n",
    "        return -1\n",
    "    \n",
    "    if numberToFind==numbersList[midIndex]:\n",
    "        return midIndex\n",
    "    elif numberToFind>numbersList[midIndex]:\n",
    "        leftIndex=midIndex+1\n",
    "    else:\n",
    "        rightIndex=midIndex-1\n",
    "    \n",
    "    return binarySearchRecursiveCodeBasics(numbersList,numberToFind,leftIndex,rightIndex)\n",
    "    \n",
    "    "
   ]
  },
  {
   "cell_type": "code",
   "execution_count": 245,
   "metadata": {},
   "outputs": [
    {
     "name": "stdout",
     "output_type": "stream",
     "text": [
      "linearSearch took 0.14699912071228027 seconds\n",
      "binarySearchRecursiveCodeBasics took 0.0 seconds\n",
      "binarySearchRecursiveCodeBasics took 0.0 seconds\n",
      "binarySearchRecursiveCodeBasics took 0.0 seconds\n",
      "binarySearchRecursiveCodeBasics took 0.0 seconds\n",
      "binarySearchRecursiveCodeBasics took 0.0 seconds\n",
      "binarySearchRecursiveCodeBasics took 0.0 seconds\n",
      "binarySearchRecursiveCodeBasics took 0.0 seconds\n",
      "binarySearchRecursiveCodeBasics took 0.0 seconds\n",
      "binarySearchRecursiveCodeBasics took 0.0 seconds\n",
      "binarySearchRecursiveCodeBasics took 0.0 seconds\n",
      "binarySearchRecursiveCodeBasics took 0.0 seconds\n",
      "binarySearchRecursiveCodeBasics took 0.0 seconds\n",
      "binarySearchRecursiveCodeBasics took 0.0 seconds\n",
      "binarySearchRecursiveCodeBasics took 0.0 seconds\n",
      "binarySearchRecursiveCodeBasics took 0.0 seconds\n",
      "binarySearchRecursiveCodeBasics took 0.0 seconds\n",
      "binarySearchRecursiveCodeBasics took 0.0 seconds\n",
      "binarySearchRecursiveCodeBasics took 0.0 seconds\n",
      "binarySearchRecursiveCodeBasics took 0.0 seconds\n",
      "binarySearchRecursiveCodeBasics took 0.0 seconds\n"
     ]
    },
    {
     "data": {
      "text/plain": [
       "1000000"
      ]
     },
     "execution_count": 245,
     "metadata": {},
     "output_type": "execute_result"
    }
   ],
   "source": [
    "numbersList=[i for i in range(1000001)]\n",
    "numberToFind=1000000\n",
    "linearSearch(numbersList=numbersList, numberToFind=numberToFind)\n",
    "binarySearchRecursiveCodeBasics(numbersList=numbersList, numberToFind=numberToFind,leftIndex=0,rightIndex=len(numbersList)-1)"
   ]
  },
  {
   "cell_type": "code",
   "execution_count": null,
   "metadata": {},
   "outputs": [],
   "source": []
  }
 ],
 "metadata": {
  "interpreter": {
   "hash": "32e1961d42f3fbeb0ee29f569be50cb2fa46fd336bd2262018e45872c9fc3b32"
  },
  "kernelspec": {
   "display_name": "Python 3.10.1 ('DSAVenv': venv)",
   "language": "python",
   "name": "python3"
  },
  "language_info": {
   "codemirror_mode": {
    "name": "ipython",
    "version": 3
   },
   "file_extension": ".py",
   "mimetype": "text/x-python",
   "name": "python",
   "nbconvert_exporter": "python",
   "pygments_lexer": "ipython3",
   "version": "3.10.1"
  },
  "orig_nbformat": 4
 },
 "nbformat": 4,
 "nbformat_minor": 2
}
