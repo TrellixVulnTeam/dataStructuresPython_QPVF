{
 "cells": [
  {
   "cell_type": "code",
   "execution_count": 1,
   "metadata": {},
   "outputs": [],
   "source": [
    "class TreeNode:\n",
    "    def __init__(self, data):\n",
    "        self.data=data\n",
    "        self.children=[]\n",
    "        self.parent=None    \n",
    "\n",
    "    def addChild(self, child):\n",
    "        child.parent=self\n",
    "        self.children.append(child)\n",
    "\n",
    "    def printTree(self):\n",
    "        level=self.getLevel()\n",
    "        if self.parent: \n",
    "            print(level*\"  \"+\"|__\"+self.data)\n",
    "        else:\n",
    "            print(level*\"  \"+self.data)\n",
    "\n",
    "        if self.children:\n",
    "            for superChild in self.children:\n",
    "                superChild.printTree()\n",
    "\n",
    "    def getLevel(self):\n",
    "        level=0\n",
    "        p=self.parent\n",
    "        while p:\n",
    "            level+=1\n",
    "            p=p.parent\n",
    "        return level\n",
    "\n",
    "    def __repr__(self):\n",
    "        return f\"TreeNode({self.data})\""
   ]
  },
  {
   "cell_type": "code",
   "execution_count": 2,
   "metadata": {},
   "outputs": [],
   "source": [
    "root=TreeNode(data=\"Electronics\")"
   ]
  },
  {
   "cell_type": "code",
   "execution_count": 3,
   "metadata": {},
   "outputs": [
    {
     "data": {
      "text/plain": [
       "'Electronics'"
      ]
     },
     "execution_count": 3,
     "metadata": {},
     "output_type": "execute_result"
    }
   ],
   "source": [
    "root.data"
   ]
  },
  {
   "cell_type": "code",
   "execution_count": 4,
   "metadata": {},
   "outputs": [],
   "source": [
    "laptop=TreeNode(data=\"Laptop\")"
   ]
  },
  {
   "cell_type": "code",
   "execution_count": 5,
   "metadata": {},
   "outputs": [],
   "source": [
    "root.addChild(child=laptop)"
   ]
  },
  {
   "cell_type": "code",
   "execution_count": 6,
   "metadata": {},
   "outputs": [
    {
     "data": {
      "text/plain": [
       "TreeNode(Electronics)"
      ]
     },
     "execution_count": 6,
     "metadata": {},
     "output_type": "execute_result"
    }
   ],
   "source": [
    "laptop.parent"
   ]
  },
  {
   "cell_type": "code",
   "execution_count": 7,
   "metadata": {},
   "outputs": [
    {
     "data": {
      "text/plain": [
       "[TreeNode(Laptop)]"
      ]
     },
     "execution_count": 7,
     "metadata": {},
     "output_type": "execute_result"
    }
   ],
   "source": [
    "root.children"
   ]
  },
  {
   "cell_type": "code",
   "execution_count": 8,
   "metadata": {},
   "outputs": [
    {
     "data": {
      "text/plain": [
       "[]"
      ]
     },
     "execution_count": 8,
     "metadata": {},
     "output_type": "execute_result"
    }
   ],
   "source": [
    "laptop.children"
   ]
  },
  {
   "cell_type": "code",
   "execution_count": 9,
   "metadata": {},
   "outputs": [],
   "source": [
    "laptop.addChild(child=TreeNode(data=\"Mac\"))\n",
    "\n",
    "laptop.addChild(child=TreeNode(data=\"Surface\"))\n",
    "\n",
    "laptop.addChild(child=TreeNode(\"Thinkpad\"))"
   ]
  },
  {
   "cell_type": "code",
   "execution_count": 10,
   "metadata": {},
   "outputs": [],
   "source": [
    "cellPhone=TreeNode(data=\"Cell Phone\")"
   ]
  },
  {
   "cell_type": "code",
   "execution_count": 11,
   "metadata": {},
   "outputs": [],
   "source": [
    "cellPhone.addChild(child=TreeNode(data=\"iPhone\"))\n",
    "\n",
    "cellPhone.addChild(child=TreeNode(data=\"Google Pixel\"))\n",
    "\n",
    "cellPhone.addChild(child=TreeNode(data=\"Vivo\"))"
   ]
  },
  {
   "cell_type": "code",
   "execution_count": 12,
   "metadata": {},
   "outputs": [],
   "source": [
    "tv=TreeNode(data=\"TV\")"
   ]
  },
  {
   "cell_type": "code",
   "execution_count": 13,
   "metadata": {},
   "outputs": [],
   "source": [
    "tv.addChild(child=TreeNode(data=\"Samsung\"))\n",
    "tv.addChild(child=TreeNode(data=\"LG\"))"
   ]
  },
  {
   "cell_type": "code",
   "execution_count": 14,
   "metadata": {},
   "outputs": [],
   "source": [
    "root.addChild(child=cellPhone)\n",
    "\n",
    "root.addChild(child=tv)"
   ]
  },
  {
   "cell_type": "code",
   "execution_count": 15,
   "metadata": {},
   "outputs": [
    {
     "data": {
      "text/plain": [
       "[TreeNode(Laptop), TreeNode(Cell Phone), TreeNode(TV)]"
      ]
     },
     "execution_count": 15,
     "metadata": {},
     "output_type": "execute_result"
    }
   ],
   "source": [
    "root.children"
   ]
  },
  {
   "cell_type": "code",
   "execution_count": 16,
   "metadata": {},
   "outputs": [
    {
     "data": {
      "text/plain": [
       "[TreeNode(iPhone), TreeNode(Google Pixel), TreeNode(Vivo)]"
      ]
     },
     "execution_count": 16,
     "metadata": {},
     "output_type": "execute_result"
    }
   ],
   "source": [
    "cellPhone.children"
   ]
  },
  {
   "cell_type": "code",
   "execution_count": 17,
   "metadata": {},
   "outputs": [
    {
     "data": {
      "text/plain": [
       "[TreeNode(Samsung), TreeNode(LG)]"
      ]
     },
     "execution_count": 17,
     "metadata": {},
     "output_type": "execute_result"
    }
   ],
   "source": [
    "tv.children"
   ]
  },
  {
   "cell_type": "code",
   "execution_count": 18,
   "metadata": {},
   "outputs": [
    {
     "name": "stdout",
     "output_type": "stream",
     "text": [
      "Electronics\n",
      "  |__Laptop\n",
      "    |__Mac\n",
      "    |__Surface\n",
      "    |__Thinkpad\n",
      "  |__Cell Phone\n",
      "    |__iPhone\n",
      "    |__Google Pixel\n",
      "    |__Vivo\n",
      "  |__TV\n",
      "    |__Samsung\n",
      "    |__LG\n"
     ]
    }
   ],
   "source": [
    "root.printTree()"
   ]
  },
  {
   "cell_type": "code",
   "execution_count": 19,
   "metadata": {},
   "outputs": [
    {
     "data": {
      "text/plain": [
       "[TreeNode(Laptop), TreeNode(Cell Phone), TreeNode(TV)]"
      ]
     },
     "execution_count": 19,
     "metadata": {},
     "output_type": "execute_result"
    }
   ],
   "source": [
    "tv.parent.children"
   ]
  },
  {
   "cell_type": "code",
   "execution_count": 20,
   "metadata": {},
   "outputs": [
    {
     "data": {
      "text/plain": [
       "0"
      ]
     },
     "execution_count": 20,
     "metadata": {},
     "output_type": "execute_result"
    }
   ],
   "source": [
    "root.getLevel()"
   ]
  },
  {
   "cell_type": "code",
   "execution_count": 21,
   "metadata": {},
   "outputs": [],
   "source": [
    "root.parent"
   ]
  },
  {
   "cell_type": "code",
   "execution_count": 22,
   "metadata": {},
   "outputs": [
    {
     "data": {
      "text/plain": [
       "1"
      ]
     },
     "execution_count": 22,
     "metadata": {},
     "output_type": "execute_result"
    }
   ],
   "source": [
    "tv.getLevel()"
   ]
  },
  {
   "cell_type": "code",
   "execution_count": null,
   "metadata": {},
   "outputs": [],
   "source": []
  },
  {
   "cell_type": "code",
   "execution_count": null,
   "metadata": {},
   "outputs": [],
   "source": []
  }
 ],
 "metadata": {
  "interpreter": {
   "hash": "32e1961d42f3fbeb0ee29f569be50cb2fa46fd336bd2262018e45872c9fc3b32"
  },
  "kernelspec": {
   "display_name": "Python 3.10.1 ('DSAVenv': venv)",
   "language": "python",
   "name": "python3"
  },
  "language_info": {
   "codemirror_mode": {
    "name": "ipython",
    "version": 3
   },
   "file_extension": ".py",
   "mimetype": "text/x-python",
   "name": "python",
   "nbconvert_exporter": "python",
   "pygments_lexer": "ipython3",
   "version": "3.10.1"
  },
  "orig_nbformat": 4
 },
 "nbformat": 4,
 "nbformat_minor": 2
}
